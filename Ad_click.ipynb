{
  "nbformat": 4,
  "nbformat_minor": 0,
  "metadata": {
    "colab": {
      "name": "Ad click",
      "provenance": [],
      "authorship_tag": "ABX9TyPUURzk4h3PMW6mCwi7cjqH",
      "include_colab_link": true
    },
    "kernelspec": {
      "name": "python3",
      "display_name": "Python 3"
    },
    "language_info": {
      "name": "python"
    }
  },
  "cells": [
    {
      "cell_type": "markdown",
      "metadata": {
        "id": "view-in-github",
        "colab_type": "text"
      },
      "source": [
        "<a href=\"https://colab.research.google.com/github/sagar0308/Ad-Click-Portfolio/blob/main/Ad_click.ipynb\" target=\"_parent\"><img src=\"https://colab.research.google.com/assets/colab-badge.svg\" alt=\"Open In Colab\"/></a>"
      ]
    },
    {
      "cell_type": "code",
      "metadata": {
        "colab": {
          "base_uri": "https://localhost:8080/"
        },
        "id": "rdG85ZEQsI4J",
        "outputId": "e87a11c2-a2a6-4a11-9dd5-337bd49cd5cb"
      },
      "source": [
        "from google.colab import drive\n",
        "drive.mount('/content/gdrive')"
      ],
      "execution_count": 1,
      "outputs": [
        {
          "output_type": "stream",
          "text": [
            "Mounted at /content/gdrive\n"
          ],
          "name": "stdout"
        }
      ]
    },
    {
      "cell_type": "code",
      "metadata": {
        "colab": {
          "base_uri": "https://localhost:8080/"
        },
        "id": "lstOkqkHsSuV",
        "outputId": "ce6bc24f-29f6-4327-f42b-b4389c640654"
      },
      "source": [
        "pip install category-encoders"
      ],
      "execution_count": 2,
      "outputs": [
        {
          "output_type": "stream",
          "text": [
            "Collecting category-encoders\n",
            "  Downloading category_encoders-2.2.2-py2.py3-none-any.whl (80 kB)\n",
            "\u001b[?25l\r\u001b[K     |████                            | 10 kB 23.0 MB/s eta 0:00:01\r\u001b[K     |████████▏                       | 20 kB 29.2 MB/s eta 0:00:01\r\u001b[K     |████████████▏                   | 30 kB 26.5 MB/s eta 0:00:01\r\u001b[K     |████████████████▎               | 40 kB 17.8 MB/s eta 0:00:01\r\u001b[K     |████████████████████▎           | 51 kB 8.4 MB/s eta 0:00:01\r\u001b[K     |████████████████████████▍       | 61 kB 9.1 MB/s eta 0:00:01\r\u001b[K     |████████████████████████████▍   | 71 kB 8.7 MB/s eta 0:00:01\r\u001b[K     |████████████████████████████████| 80 kB 5.1 MB/s \n",
            "\u001b[?25hRequirement already satisfied: numpy>=1.14.0 in /usr/local/lib/python3.7/dist-packages (from category-encoders) (1.19.5)\n",
            "Requirement already satisfied: statsmodels>=0.9.0 in /usr/local/lib/python3.7/dist-packages (from category-encoders) (0.10.2)\n",
            "Requirement already satisfied: scikit-learn>=0.20.0 in /usr/local/lib/python3.7/dist-packages (from category-encoders) (0.22.2.post1)\n",
            "Requirement already satisfied: patsy>=0.5.1 in /usr/local/lib/python3.7/dist-packages (from category-encoders) (0.5.1)\n",
            "Requirement already satisfied: pandas>=0.21.1 in /usr/local/lib/python3.7/dist-packages (from category-encoders) (1.1.5)\n",
            "Requirement already satisfied: scipy>=1.0.0 in /usr/local/lib/python3.7/dist-packages (from category-encoders) (1.4.1)\n",
            "Requirement already satisfied: python-dateutil>=2.7.3 in /usr/local/lib/python3.7/dist-packages (from pandas>=0.21.1->category-encoders) (2.8.2)\n",
            "Requirement already satisfied: pytz>=2017.2 in /usr/local/lib/python3.7/dist-packages (from pandas>=0.21.1->category-encoders) (2018.9)\n",
            "Requirement already satisfied: six in /usr/local/lib/python3.7/dist-packages (from patsy>=0.5.1->category-encoders) (1.15.0)\n",
            "Requirement already satisfied: joblib>=0.11 in /usr/local/lib/python3.7/dist-packages (from scikit-learn>=0.20.0->category-encoders) (1.0.1)\n",
            "Installing collected packages: category-encoders\n",
            "Successfully installed category-encoders-2.2.2\n"
          ],
          "name": "stdout"
        }
      ]
    },
    {
      "cell_type": "code",
      "metadata": {
        "id": "G3x_H_unsSwt"
      },
      "source": [
        "\n",
        "# Importing necessary liabraries \n",
        "import pandas as pd\n",
        "import numpy as np\n",
        "import matplotlib.pyplot as plt\n",
        "from matplotlib import pyplot\n",
        "import seaborn as sns\n",
        "import warnings\n",
        "warnings.filterwarnings(\"ignore\")\n",
        "\n",
        "\n",
        "import time\n",
        "from sklearn.pipeline import Pipeline\n",
        "from category_encoders.target_encoder import TargetEncoder\n",
        "from sklearn.model_selection import train_test_split, RandomizedSearchCV, cross_val_score, StratifiedKFold\n",
        "from sklearn.preprocessing import PolynomialFeatures\n",
        "from sklearn.linear_model import LogisticRegression\n",
        "from sklearn.ensemble import RandomForestClassifier, BaggingClassifier\n",
        "from sklearn.neighbors import KNeighborsClassifier\n",
        "from sklearn.tree import DecisionTreeClassifier\n",
        "from sklearn.linear_model import SGDClassifier\n",
        "from sklearn.cluster import KMeans\n",
        "\n",
        "\n",
        "from sklearn import metrics\n",
        "from sklearn.metrics import accuracy_score\n",
        "from sklearn.metrics import confusion_matrix\n",
        "from sklearn.metrics import f1_score\n",
        "from sklearn.metrics import roc_curve, roc_auc_score\n",
        "import pickle"
      ],
      "execution_count": 3,
      "outputs": []
    },
    {
      "cell_type": "code",
      "metadata": {
        "id": "4j2UqUq8sS0u"
      },
      "source": [
        "df = pd.read_csv('/content/gdrive/MyDrive/ML_Projects/Ad_click/train.csv')\n",
        "test = pd.read_csv('/content/gdrive/MyDrive/ML_Projects/Ad_click/test.csv')"
      ],
      "execution_count": 4,
      "outputs": []
    },
    {
      "cell_type": "code",
      "metadata": {
        "id": "016akWvFsS2r"
      },
      "source": [
        "df1 =  df.copy()"
      ],
      "execution_count": 5,
      "outputs": []
    },
    {
      "cell_type": "code",
      "metadata": {
        "colab": {
          "base_uri": "https://localhost:8080/",
          "height": 203
        },
        "id": "1NmShFaCsS6n",
        "outputId": "4205337a-aecb-4002-a987-569487d66c25"
      },
      "source": [
        "df.head()"
      ],
      "execution_count": 6,
      "outputs": [
        {
          "output_type": "execute_result",
          "data": {
            "text/html": [
              "<div>\n",
              "<style scoped>\n",
              "    .dataframe tbody tr th:only-of-type {\n",
              "        vertical-align: middle;\n",
              "    }\n",
              "\n",
              "    .dataframe tbody tr th {\n",
              "        vertical-align: top;\n",
              "    }\n",
              "\n",
              "    .dataframe thead th {\n",
              "        text-align: right;\n",
              "    }\n",
              "</style>\n",
              "<table border=\"1\" class=\"dataframe\">\n",
              "  <thead>\n",
              "    <tr style=\"text-align: right;\">\n",
              "      <th></th>\n",
              "      <th>ID</th>\n",
              "      <th>datetime</th>\n",
              "      <th>siteid</th>\n",
              "      <th>offerid</th>\n",
              "      <th>category</th>\n",
              "      <th>merchant</th>\n",
              "      <th>countrycode</th>\n",
              "      <th>browserid</th>\n",
              "      <th>devid</th>\n",
              "      <th>click</th>\n",
              "    </tr>\n",
              "  </thead>\n",
              "  <tbody>\n",
              "    <tr>\n",
              "      <th>0</th>\n",
              "      <td>IDsrk7SoW</td>\n",
              "      <td>2017-01-14 09:42:09</td>\n",
              "      <td>4709696.0</td>\n",
              "      <td>887235</td>\n",
              "      <td>17714</td>\n",
              "      <td>20301556</td>\n",
              "      <td>e</td>\n",
              "      <td>Firefox</td>\n",
              "      <td>NaN</td>\n",
              "      <td>0</td>\n",
              "    </tr>\n",
              "    <tr>\n",
              "      <th>1</th>\n",
              "      <td>IDmMSxHur</td>\n",
              "      <td>2017-01-18 17:50:53</td>\n",
              "      <td>5189467.0</td>\n",
              "      <td>178235</td>\n",
              "      <td>21407</td>\n",
              "      <td>9434818</td>\n",
              "      <td>b</td>\n",
              "      <td>Mozilla Firefox</td>\n",
              "      <td>Desktop</td>\n",
              "      <td>0</td>\n",
              "    </tr>\n",
              "    <tr>\n",
              "      <th>2</th>\n",
              "      <td>IDVLNN0Ut</td>\n",
              "      <td>2017-01-11 12:46:49</td>\n",
              "      <td>98480.0</td>\n",
              "      <td>518539</td>\n",
              "      <td>25085</td>\n",
              "      <td>2050923</td>\n",
              "      <td>a</td>\n",
              "      <td>Edge</td>\n",
              "      <td>NaN</td>\n",
              "      <td>0</td>\n",
              "    </tr>\n",
              "    <tr>\n",
              "      <th>3</th>\n",
              "      <td>ID32T6wwQ</td>\n",
              "      <td>2017-01-17 10:18:43</td>\n",
              "      <td>8896401.0</td>\n",
              "      <td>390352</td>\n",
              "      <td>40339</td>\n",
              "      <td>72089744</td>\n",
              "      <td>c</td>\n",
              "      <td>Firefox</td>\n",
              "      <td>Mobile</td>\n",
              "      <td>0</td>\n",
              "    </tr>\n",
              "    <tr>\n",
              "      <th>4</th>\n",
              "      <td>IDqUShzMg</td>\n",
              "      <td>2017-01-14 16:02:33</td>\n",
              "      <td>5635120.0</td>\n",
              "      <td>472937</td>\n",
              "      <td>12052</td>\n",
              "      <td>39507200</td>\n",
              "      <td>d</td>\n",
              "      <td>Mozilla Firefox</td>\n",
              "      <td>Desktop</td>\n",
              "      <td>0</td>\n",
              "    </tr>\n",
              "  </tbody>\n",
              "</table>\n",
              "</div>"
            ],
            "text/plain": [
              "          ID             datetime     siteid  ...        browserid    devid  click\n",
              "0  IDsrk7SoW  2017-01-14 09:42:09  4709696.0  ...          Firefox      NaN      0\n",
              "1  IDmMSxHur  2017-01-18 17:50:53  5189467.0  ...  Mozilla Firefox  Desktop      0\n",
              "2  IDVLNN0Ut  2017-01-11 12:46:49    98480.0  ...             Edge      NaN      0\n",
              "3  ID32T6wwQ  2017-01-17 10:18:43  8896401.0  ...          Firefox   Mobile      0\n",
              "4  IDqUShzMg  2017-01-14 16:02:33  5635120.0  ...  Mozilla Firefox  Desktop      0\n",
              "\n",
              "[5 rows x 10 columns]"
            ]
          },
          "metadata": {},
          "execution_count": 6
        }
      ]
    },
    {
      "cell_type": "code",
      "metadata": {
        "colab": {
          "base_uri": "https://localhost:8080/",
          "height": 203
        },
        "id": "wUxYVKLIsS82",
        "outputId": "e5928356-4269-46f5-9804-81bbdb42d0e9"
      },
      "source": [
        "df.tail()"
      ],
      "execution_count": 7,
      "outputs": [
        {
          "output_type": "execute_result",
          "data": {
            "text/html": [
              "<div>\n",
              "<style scoped>\n",
              "    .dataframe tbody tr th:only-of-type {\n",
              "        vertical-align: middle;\n",
              "    }\n",
              "\n",
              "    .dataframe tbody tr th {\n",
              "        vertical-align: top;\n",
              "    }\n",
              "\n",
              "    .dataframe thead th {\n",
              "        text-align: right;\n",
              "    }\n",
              "</style>\n",
              "<table border=\"1\" class=\"dataframe\">\n",
              "  <thead>\n",
              "    <tr style=\"text-align: right;\">\n",
              "      <th></th>\n",
              "      <th>ID</th>\n",
              "      <th>datetime</th>\n",
              "      <th>siteid</th>\n",
              "      <th>offerid</th>\n",
              "      <th>category</th>\n",
              "      <th>merchant</th>\n",
              "      <th>countrycode</th>\n",
              "      <th>browserid</th>\n",
              "      <th>devid</th>\n",
              "      <th>click</th>\n",
              "    </tr>\n",
              "  </thead>\n",
              "  <tbody>\n",
              "    <tr>\n",
              "      <th>12137805</th>\n",
              "      <td>IDeCjSZFQ</td>\n",
              "      <td>2017-01-16 14:43:18</td>\n",
              "      <td>9219361.0</td>\n",
              "      <td>636017</td>\n",
              "      <td>82877</td>\n",
              "      <td>26120440</td>\n",
              "      <td>a</td>\n",
              "      <td>Google Chrome</td>\n",
              "      <td>Mobile</td>\n",
              "      <td>0</td>\n",
              "    </tr>\n",
              "    <tr>\n",
              "      <th>12137806</th>\n",
              "      <td>IDE4u9Brn</td>\n",
              "      <td>2017-01-13 11:59:51</td>\n",
              "      <td>8720884.0</td>\n",
              "      <td>917105</td>\n",
              "      <td>84987</td>\n",
              "      <td>76367582</td>\n",
              "      <td>a</td>\n",
              "      <td>Firefox</td>\n",
              "      <td>Mobile</td>\n",
              "      <td>0</td>\n",
              "    </tr>\n",
              "    <tr>\n",
              "      <th>12137807</th>\n",
              "      <td>IDJpAwqL6</td>\n",
              "      <td>2017-01-12 11:23:33</td>\n",
              "      <td>6908273.0</td>\n",
              "      <td>302637</td>\n",
              "      <td>34670</td>\n",
              "      <td>41475976</td>\n",
              "      <td>b</td>\n",
              "      <td>Firefox</td>\n",
              "      <td>Mobile</td>\n",
              "      <td>0</td>\n",
              "    </tr>\n",
              "    <tr>\n",
              "      <th>12137808</th>\n",
              "      <td>IDNEm9J6j</td>\n",
              "      <td>2017-01-14 08:21:19</td>\n",
              "      <td>8075597.0</td>\n",
              "      <td>382869</td>\n",
              "      <td>40339</td>\n",
              "      <td>43452411</td>\n",
              "      <td>e</td>\n",
              "      <td>Edge</td>\n",
              "      <td>Tablet</td>\n",
              "      <td>0</td>\n",
              "    </tr>\n",
              "    <tr>\n",
              "      <th>12137809</th>\n",
              "      <td>IDoKP7vI6</td>\n",
              "      <td>2017-01-11 13:51:26</td>\n",
              "      <td>NaN</td>\n",
              "      <td>879032</td>\n",
              "      <td>92704</td>\n",
              "      <td>95441506</td>\n",
              "      <td>c</td>\n",
              "      <td>Google Chrome</td>\n",
              "      <td>Mobile</td>\n",
              "      <td>0</td>\n",
              "    </tr>\n",
              "  </tbody>\n",
              "</table>\n",
              "</div>"
            ],
            "text/plain": [
              "                 ID             datetime  ...   devid  click\n",
              "12137805  IDeCjSZFQ  2017-01-16 14:43:18  ...  Mobile      0\n",
              "12137806  IDE4u9Brn  2017-01-13 11:59:51  ...  Mobile      0\n",
              "12137807  IDJpAwqL6  2017-01-12 11:23:33  ...  Mobile      0\n",
              "12137808  IDNEm9J6j  2017-01-14 08:21:19  ...  Tablet      0\n",
              "12137809  IDoKP7vI6  2017-01-11 13:51:26  ...  Mobile      0\n",
              "\n",
              "[5 rows x 10 columns]"
            ]
          },
          "metadata": {},
          "execution_count": 7
        }
      ]
    },
    {
      "cell_type": "code",
      "metadata": {
        "colab": {
          "base_uri": "https://localhost:8080/"
        },
        "id": "9_n-hX28sTAl",
        "outputId": "adc67c7c-6bac-4eb1-f561-fcdd9adfd38f"
      },
      "source": [
        "df.shape"
      ],
      "execution_count": 8,
      "outputs": [
        {
          "output_type": "execute_result",
          "data": {
            "text/plain": [
              "(12137810, 10)"
            ]
          },
          "metadata": {},
          "execution_count": 8
        }
      ]
    },
    {
      "cell_type": "code",
      "metadata": {
        "colab": {
          "base_uri": "https://localhost:8080/"
        },
        "id": "UQcgNPCbsTCQ",
        "outputId": "a20fce4a-698f-4b87-ad20-4579ff5360c9"
      },
      "source": [
        "df.info()"
      ],
      "execution_count": 9,
      "outputs": [
        {
          "output_type": "stream",
          "text": [
            "<class 'pandas.core.frame.DataFrame'>\n",
            "RangeIndex: 12137810 entries, 0 to 12137809\n",
            "Data columns (total 10 columns):\n",
            " #   Column       Dtype  \n",
            "---  ------       -----  \n",
            " 0   ID           object \n",
            " 1   datetime     object \n",
            " 2   siteid       float64\n",
            " 3   offerid      int64  \n",
            " 4   category     int64  \n",
            " 5   merchant     int64  \n",
            " 6   countrycode  object \n",
            " 7   browserid    object \n",
            " 8   devid        object \n",
            " 9   click        int64  \n",
            "dtypes: float64(1), int64(4), object(5)\n",
            "memory usage: 926.0+ MB\n"
          ],
          "name": "stdout"
        }
      ]
    },
    {
      "cell_type": "code",
      "metadata": {
        "id": "Sa6MXm_-sTGU"
      },
      "source": [
        "# Dropping ID column as it doesn't serve any purpose\n",
        "df.drop('ID', axis = 1, inplace = True)\n",
        "df1.drop('ID', axis = 1, inplace = True)"
      ],
      "execution_count": 10,
      "outputs": []
    },
    {
      "cell_type": "code",
      "metadata": {
        "colab": {
          "base_uri": "https://localhost:8080/",
          "height": 203
        },
        "id": "dDculz4MsTIS",
        "outputId": "058bdee0-b7df-4024-b4c1-162275e75b46"
      },
      "source": [
        "df.head()"
      ],
      "execution_count": 11,
      "outputs": [
        {
          "output_type": "execute_result",
          "data": {
            "text/html": [
              "<div>\n",
              "<style scoped>\n",
              "    .dataframe tbody tr th:only-of-type {\n",
              "        vertical-align: middle;\n",
              "    }\n",
              "\n",
              "    .dataframe tbody tr th {\n",
              "        vertical-align: top;\n",
              "    }\n",
              "\n",
              "    .dataframe thead th {\n",
              "        text-align: right;\n",
              "    }\n",
              "</style>\n",
              "<table border=\"1\" class=\"dataframe\">\n",
              "  <thead>\n",
              "    <tr style=\"text-align: right;\">\n",
              "      <th></th>\n",
              "      <th>datetime</th>\n",
              "      <th>siteid</th>\n",
              "      <th>offerid</th>\n",
              "      <th>category</th>\n",
              "      <th>merchant</th>\n",
              "      <th>countrycode</th>\n",
              "      <th>browserid</th>\n",
              "      <th>devid</th>\n",
              "      <th>click</th>\n",
              "    </tr>\n",
              "  </thead>\n",
              "  <tbody>\n",
              "    <tr>\n",
              "      <th>0</th>\n",
              "      <td>2017-01-14 09:42:09</td>\n",
              "      <td>4709696.0</td>\n",
              "      <td>887235</td>\n",
              "      <td>17714</td>\n",
              "      <td>20301556</td>\n",
              "      <td>e</td>\n",
              "      <td>Firefox</td>\n",
              "      <td>NaN</td>\n",
              "      <td>0</td>\n",
              "    </tr>\n",
              "    <tr>\n",
              "      <th>1</th>\n",
              "      <td>2017-01-18 17:50:53</td>\n",
              "      <td>5189467.0</td>\n",
              "      <td>178235</td>\n",
              "      <td>21407</td>\n",
              "      <td>9434818</td>\n",
              "      <td>b</td>\n",
              "      <td>Mozilla Firefox</td>\n",
              "      <td>Desktop</td>\n",
              "      <td>0</td>\n",
              "    </tr>\n",
              "    <tr>\n",
              "      <th>2</th>\n",
              "      <td>2017-01-11 12:46:49</td>\n",
              "      <td>98480.0</td>\n",
              "      <td>518539</td>\n",
              "      <td>25085</td>\n",
              "      <td>2050923</td>\n",
              "      <td>a</td>\n",
              "      <td>Edge</td>\n",
              "      <td>NaN</td>\n",
              "      <td>0</td>\n",
              "    </tr>\n",
              "    <tr>\n",
              "      <th>3</th>\n",
              "      <td>2017-01-17 10:18:43</td>\n",
              "      <td>8896401.0</td>\n",
              "      <td>390352</td>\n",
              "      <td>40339</td>\n",
              "      <td>72089744</td>\n",
              "      <td>c</td>\n",
              "      <td>Firefox</td>\n",
              "      <td>Mobile</td>\n",
              "      <td>0</td>\n",
              "    </tr>\n",
              "    <tr>\n",
              "      <th>4</th>\n",
              "      <td>2017-01-14 16:02:33</td>\n",
              "      <td>5635120.0</td>\n",
              "      <td>472937</td>\n",
              "      <td>12052</td>\n",
              "      <td>39507200</td>\n",
              "      <td>d</td>\n",
              "      <td>Mozilla Firefox</td>\n",
              "      <td>Desktop</td>\n",
              "      <td>0</td>\n",
              "    </tr>\n",
              "  </tbody>\n",
              "</table>\n",
              "</div>"
            ],
            "text/plain": [
              "              datetime     siteid  offerid  ...        browserid    devid click\n",
              "0  2017-01-14 09:42:09  4709696.0   887235  ...          Firefox      NaN     0\n",
              "1  2017-01-18 17:50:53  5189467.0   178235  ...  Mozilla Firefox  Desktop     0\n",
              "2  2017-01-11 12:46:49    98480.0   518539  ...             Edge      NaN     0\n",
              "3  2017-01-17 10:18:43  8896401.0   390352  ...          Firefox   Mobile     0\n",
              "4  2017-01-14 16:02:33  5635120.0   472937  ...  Mozilla Firefox  Desktop     0\n",
              "\n",
              "[5 rows x 9 columns]"
            ]
          },
          "metadata": {},
          "execution_count": 11
        }
      ]
    },
    {
      "cell_type": "code",
      "metadata": {
        "id": "1yeIC69lsTMS"
      },
      "source": [
        "def data_information(df):\n",
        "    \n",
        "    ## Creating Empty Data Frame\n",
        "    data_info = pd.DataFrame(np.random.randn(0, 11) * 0,\n",
        "                             columns=['No. of Observations (Nrow)',\n",
        "                                      'No. of Variables (Ncol)',\n",
        "                                      'No. of Numeric Variables',\n",
        "                                      'No. of Categorical Variables',\n",
        "                                      'No. of Logical Variables',\n",
        "                                      'No. of Date Variables',\n",
        "                                      'No. of Zero variance Variables (Uniform)',\n",
        "                                      '% of Variables having complete cases',\n",
        "                                      '% of Variables having <=50% missing cases',\n",
        "                                      '% of Variables having >50% missing cases',\n",
        "                                      '% of Variables having >90% missing cases'])\n",
        "\n",
        "    ## Data Inofrmation\n",
        "    data_info.loc[0, 'No. of Observations (Nrow)'] = df.shape[0]\n",
        "    data_info.loc[0, 'No. of Variables (Ncol)'] = df.shape[1]\n",
        "    data_info.loc[0, 'No. of Numeric Variables'] = df._get_numeric_data().shape[1]\n",
        "    data_info.loc[0, 'No. of Logical Variables'] = df.select_dtypes(include='bool').shape[1]\n",
        "    data_info.loc[0, 'No. of Categorical Variables'] = df.select_dtypes(include='object').shape[1]\n",
        "    data_info.loc[0, 'No. of Date Variables'] = df.select_dtypes(include='datetime64').shape[1]\n",
        "    data_info.loc[0, 'No. of Zero variance Variables (Uniform)'] = df.loc[:, df.apply(pd.Series.nunique) == 1].shape[1]\n",
        "\n",
        "    null_per = pd.DataFrame(df.isnull().sum()/df.shape[0])\n",
        "    null_per.columns = ['null_per']\n",
        "\n",
        "    data_info.loc[0, '% of Variables having complete cases'] = null_per[null_per.null_per == 0].shape[0] * 100 / \\\n",
        "                                                               df.shape[1]\n",
        "    data_info.loc[0, '% of Variables having <=50% missing cases'] = null_per[null_per.null_per <= 0.50].shape[0] * 100 / \\\n",
        "                                                                    df.shape[1]\n",
        "    data_info.loc[0, '% of Variables having >50% missing cases'] = null_per[null_per.null_per > 0.50].shape[0] * 100 / \\\n",
        "                                                                   df.shape[1]\n",
        "    data_info.loc[0, '% of Variables having >90% missing cases'] = null_per[null_per.null_per > 0.90].shape[0] * 100 / \\\n",
        "                                                                   df.shape[1]\n",
        "\n",
        "    ## Transposing Data to get in consumable format\n",
        "    data_info = data_info.transpose()\n",
        "    data_info.columns = ['Value']\n",
        "    data_info['Value'] = data_info['Value'].astype(int)\n",
        "\n",
        "    return data_info"
      ],
      "execution_count": 12,
      "outputs": []
    },
    {
      "cell_type": "code",
      "metadata": {
        "colab": {
          "base_uri": "https://localhost:8080/",
          "height": 388
        },
        "id": "eAFLfnuxsTOV",
        "outputId": "4fc94932-f17e-41d9-913f-6cdfd949b26c"
      },
      "source": [
        "data_information(df)"
      ],
      "execution_count": 13,
      "outputs": [
        {
          "output_type": "execute_result",
          "data": {
            "text/html": [
              "<div>\n",
              "<style scoped>\n",
              "    .dataframe tbody tr th:only-of-type {\n",
              "        vertical-align: middle;\n",
              "    }\n",
              "\n",
              "    .dataframe tbody tr th {\n",
              "        vertical-align: top;\n",
              "    }\n",
              "\n",
              "    .dataframe thead th {\n",
              "        text-align: right;\n",
              "    }\n",
              "</style>\n",
              "<table border=\"1\" class=\"dataframe\">\n",
              "  <thead>\n",
              "    <tr style=\"text-align: right;\">\n",
              "      <th></th>\n",
              "      <th>Value</th>\n",
              "    </tr>\n",
              "  </thead>\n",
              "  <tbody>\n",
              "    <tr>\n",
              "      <th>No. of Observations (Nrow)</th>\n",
              "      <td>12137810</td>\n",
              "    </tr>\n",
              "    <tr>\n",
              "      <th>No. of Variables (Ncol)</th>\n",
              "      <td>9</td>\n",
              "    </tr>\n",
              "    <tr>\n",
              "      <th>No. of Numeric Variables</th>\n",
              "      <td>5</td>\n",
              "    </tr>\n",
              "    <tr>\n",
              "      <th>No. of Categorical Variables</th>\n",
              "      <td>4</td>\n",
              "    </tr>\n",
              "    <tr>\n",
              "      <th>No. of Logical Variables</th>\n",
              "      <td>0</td>\n",
              "    </tr>\n",
              "    <tr>\n",
              "      <th>No. of Date Variables</th>\n",
              "      <td>0</td>\n",
              "    </tr>\n",
              "    <tr>\n",
              "      <th>No. of Zero variance Variables (Uniform)</th>\n",
              "      <td>0</td>\n",
              "    </tr>\n",
              "    <tr>\n",
              "      <th>% of Variables having complete cases</th>\n",
              "      <td>66</td>\n",
              "    </tr>\n",
              "    <tr>\n",
              "      <th>% of Variables having &lt;=50% missing cases</th>\n",
              "      <td>100</td>\n",
              "    </tr>\n",
              "    <tr>\n",
              "      <th>% of Variables having &gt;50% missing cases</th>\n",
              "      <td>0</td>\n",
              "    </tr>\n",
              "    <tr>\n",
              "      <th>% of Variables having &gt;90% missing cases</th>\n",
              "      <td>0</td>\n",
              "    </tr>\n",
              "  </tbody>\n",
              "</table>\n",
              "</div>"
            ],
            "text/plain": [
              "                                              Value\n",
              "No. of Observations (Nrow)                 12137810\n",
              "No. of Variables (Ncol)                           9\n",
              "No. of Numeric Variables                          5\n",
              "No. of Categorical Variables                      4\n",
              "No. of Logical Variables                          0\n",
              "No. of Date Variables                             0\n",
              "No. of Zero variance Variables (Uniform)          0\n",
              "% of Variables having complete cases             66\n",
              "% of Variables having <=50% missing cases       100\n",
              "% of Variables having >50% missing cases          0\n",
              "% of Variables having >90% missing cases          0"
            ]
          },
          "metadata": {},
          "execution_count": 13
        }
      ]
    },
    {
      "cell_type": "code",
      "metadata": {
        "id": "Zthf9PSzsTSV"
      },
      "source": [
        "def cat_count_summary(df):\n",
        "\n",
        "    df_cat = df.select_dtypes(['object', 'bool'])\n",
        "\n",
        "    data_info_cat = pd.DataFrame()\n",
        "    ## Counts Stats on Categorical Variable\n",
        "    try:  ## incase Categorical variables not present\n",
        "        for c in df_cat.columns:\n",
        "            data_info_cat.loc[c, 'Unique Categories'] = len(df_cat[c].unique())\n",
        "            data_info_cat.loc[c, 'Missing Percentage'] = (df_cat[df_cat[c].isnull()].shape[0]*100) / df_cat.shape[0]\n",
        "    except:\n",
        "        pass\n",
        "    return data_info_cat"
      ],
      "execution_count": 14,
      "outputs": []
    },
    {
      "cell_type": "code",
      "metadata": {
        "colab": {
          "base_uri": "https://localhost:8080/",
          "height": 172
        },
        "id": "vpc2z4shsTUN",
        "outputId": "8f829b1c-df08-4c07-9747-8653c7005738"
      },
      "source": [
        "cat_count_summary(df)"
      ],
      "execution_count": 15,
      "outputs": [
        {
          "output_type": "execute_result",
          "data": {
            "text/html": [
              "<div>\n",
              "<style scoped>\n",
              "    .dataframe tbody tr th:only-of-type {\n",
              "        vertical-align: middle;\n",
              "    }\n",
              "\n",
              "    .dataframe tbody tr th {\n",
              "        vertical-align: top;\n",
              "    }\n",
              "\n",
              "    .dataframe thead th {\n",
              "        text-align: right;\n",
              "    }\n",
              "</style>\n",
              "<table border=\"1\" class=\"dataframe\">\n",
              "  <thead>\n",
              "    <tr style=\"text-align: right;\">\n",
              "      <th></th>\n",
              "      <th>Unique Categories</th>\n",
              "      <th>Missing Percentage</th>\n",
              "    </tr>\n",
              "  </thead>\n",
              "  <tbody>\n",
              "    <tr>\n",
              "      <th>datetime</th>\n",
              "      <td>515116.0</td>\n",
              "      <td>0.000000</td>\n",
              "    </tr>\n",
              "    <tr>\n",
              "      <th>countrycode</th>\n",
              "      <td>6.0</td>\n",
              "      <td>0.000000</td>\n",
              "    </tr>\n",
              "    <tr>\n",
              "      <th>browserid</th>\n",
              "      <td>12.0</td>\n",
              "      <td>5.011835</td>\n",
              "    </tr>\n",
              "    <tr>\n",
              "      <th>devid</th>\n",
              "      <td>4.0</td>\n",
              "      <td>14.996931</td>\n",
              "    </tr>\n",
              "  </tbody>\n",
              "</table>\n",
              "</div>"
            ],
            "text/plain": [
              "             Unique Categories  Missing Percentage\n",
              "datetime              515116.0            0.000000\n",
              "countrycode                6.0            0.000000\n",
              "browserid                 12.0            5.011835\n",
              "devid                      4.0           14.996931"
            ]
          },
          "metadata": {},
          "execution_count": 15
        }
      ]
    },
    {
      "cell_type": "markdown",
      "metadata": {
        "id": "TNL3DEals8cm"
      },
      "source": [
        "# Lets begin with some EDA!\n"
      ]
    },
    {
      "cell_type": "code",
      "metadata": {
        "colab": {
          "base_uri": "https://localhost:8080/"
        },
        "id": "4dZ9UErwsTYR",
        "outputId": "20ee7226-cc0b-455a-85c1-bd65d7e0e84e"
      },
      "source": [
        "df.click.value_counts()"
      ],
      "execution_count": 16,
      "outputs": [
        {
          "output_type": "execute_result",
          "data": {
            "text/plain": [
              "0    11700596\n",
              "1      437214\n",
              "Name: click, dtype: int64"
            ]
          },
          "metadata": {},
          "execution_count": 16
        }
      ]
    },
    {
      "cell_type": "code",
      "metadata": {
        "colab": {
          "base_uri": "https://localhost:8080/",
          "height": 307
        },
        "id": "VUzyL0ISsTaE",
        "outputId": "04d1c9c1-af79-4258-f38d-76e27bcb50fc"
      },
      "source": [
        "sns.countplot(x='click', data=df)"
      ],
      "execution_count": 17,
      "outputs": [
        {
          "output_type": "execute_result",
          "data": {
            "text/plain": [
              "<matplotlib.axes._subplots.AxesSubplot at 0x7ff5bac7a810>"
            ]
          },
          "metadata": {},
          "execution_count": 17
        },
        {
          "output_type": "display_data",
          "data": {
            "image/png": "[encoded data removed]",
            "text/plain": [
              "<Figure size 432x288 with 1 Axes>"
            ]
          },
          "metadata": {
            "needs_background": "light"
          }
        }
      ]
    },
    {
      "cell_type": "markdown",
      "metadata": {
        "id": "etlcloGntG4e"
      },
      "source": [
        "### It seems to be Dataset is heavily imbalanced!\n"
      ]
    },
    {
      "cell_type": "code",
      "metadata": {
        "colab": {
          "base_uri": "https://localhost:8080/",
          "height": 417
        },
        "id": "9xsUkki-sTd9",
        "outputId": "89b5b75b-3020-451d-c2fc-329554f364cd"
      },
      "source": [
        "df[df.click==0]"
      ],
      "execution_count": 18,
      "outputs": [
        {
          "output_type": "execute_result",
          "data": {
            "text/html": [
              "<div>\n",
              "<style scoped>\n",
              "    .dataframe tbody tr th:only-of-type {\n",
              "        vertical-align: middle;\n",
              "    }\n",
              "\n",
              "    .dataframe tbody tr th {\n",
              "        vertical-align: top;\n",
              "    }\n",
              "\n",
              "    .dataframe thead th {\n",
              "        text-align: right;\n",
              "    }\n",
              "</style>\n",
              "<table border=\"1\" class=\"dataframe\">\n",
              "  <thead>\n",
              "    <tr style=\"text-align: right;\">\n",
              "      <th></th>\n",
              "      <th>datetime</th>\n",
              "      <th>siteid</th>\n",
              "      <th>offerid</th>\n",
              "      <th>category</th>\n",
              "      <th>merchant</th>\n",
              "      <th>countrycode</th>\n",
              "      <th>browserid</th>\n",
              "      <th>devid</th>\n",
              "      <th>click</th>\n",
              "    </tr>\n",
              "  </thead>\n",
              "  <tbody>\n",
              "    <tr>\n",
              "      <th>0</th>\n",
              "      <td>2017-01-14 09:42:09</td>\n",
              "      <td>4709696.0</td>\n",
              "      <td>887235</td>\n",
              "      <td>17714</td>\n",
              "      <td>20301556</td>\n",
              "      <td>e</td>\n",
              "      <td>Firefox</td>\n",
              "      <td>NaN</td>\n",
              "      <td>0</td>\n",
              "    </tr>\n",
              "    <tr>\n",
              "      <th>1</th>\n",
              "      <td>2017-01-18 17:50:53</td>\n",
              "      <td>5189467.0</td>\n",
              "      <td>178235</td>\n",
              "      <td>21407</td>\n",
              "      <td>9434818</td>\n",
              "      <td>b</td>\n",
              "      <td>Mozilla Firefox</td>\n",
              "      <td>Desktop</td>\n",
              "      <td>0</td>\n",
              "    </tr>\n",
              "    <tr>\n",
              "      <th>2</th>\n",
              "      <td>2017-01-11 12:46:49</td>\n",
              "      <td>98480.0</td>\n",
              "      <td>518539</td>\n",
              "      <td>25085</td>\n",
              "      <td>2050923</td>\n",
              "      <td>a</td>\n",
              "      <td>Edge</td>\n",
              "      <td>NaN</td>\n",
              "      <td>0</td>\n",
              "    </tr>\n",
              "    <tr>\n",
              "      <th>3</th>\n",
              "      <td>2017-01-17 10:18:43</td>\n",
              "      <td>8896401.0</td>\n",
              "      <td>390352</td>\n",
              "      <td>40339</td>\n",
              "      <td>72089744</td>\n",
              "      <td>c</td>\n",
              "      <td>Firefox</td>\n",
              "      <td>Mobile</td>\n",
              "      <td>0</td>\n",
              "    </tr>\n",
              "    <tr>\n",
              "      <th>4</th>\n",
              "      <td>2017-01-14 16:02:33</td>\n",
              "      <td>5635120.0</td>\n",
              "      <td>472937</td>\n",
              "      <td>12052</td>\n",
              "      <td>39507200</td>\n",
              "      <td>d</td>\n",
              "      <td>Mozilla Firefox</td>\n",
              "      <td>Desktop</td>\n",
              "      <td>0</td>\n",
              "    </tr>\n",
              "    <tr>\n",
              "      <th>...</th>\n",
              "      <td>...</td>\n",
              "      <td>...</td>\n",
              "      <td>...</td>\n",
              "      <td>...</td>\n",
              "      <td>...</td>\n",
              "      <td>...</td>\n",
              "      <td>...</td>\n",
              "      <td>...</td>\n",
              "      <td>...</td>\n",
              "    </tr>\n",
              "    <tr>\n",
              "      <th>12137805</th>\n",
              "      <td>2017-01-16 14:43:18</td>\n",
              "      <td>9219361.0</td>\n",
              "      <td>636017</td>\n",
              "      <td>82877</td>\n",
              "      <td>26120440</td>\n",
              "      <td>a</td>\n",
              "      <td>Google Chrome</td>\n",
              "      <td>Mobile</td>\n",
              "      <td>0</td>\n",
              "    </tr>\n",
              "    <tr>\n",
              "      <th>12137806</th>\n",
              "      <td>2017-01-13 11:59:51</td>\n",
              "      <td>8720884.0</td>\n",
              "      <td>917105</td>\n",
              "      <td>84987</td>\n",
              "      <td>76367582</td>\n",
              "      <td>a</td>\n",
              "      <td>Firefox</td>\n",
              "      <td>Mobile</td>\n",
              "      <td>0</td>\n",
              "    </tr>\n",
              "    <tr>\n",
              "      <th>12137807</th>\n",
              "      <td>2017-01-12 11:23:33</td>\n",
              "      <td>6908273.0</td>\n",
              "      <td>302637</td>\n",
              "      <td>34670</td>\n",
              "      <td>41475976</td>\n",
              "      <td>b</td>\n",
              "      <td>Firefox</td>\n",
              "      <td>Mobile</td>\n",
              "      <td>0</td>\n",
              "    </tr>\n",
              "    <tr>\n",
              "      <th>12137808</th>\n",
              "      <td>2017-01-14 08:21:19</td>\n",
              "      <td>8075597.0</td>\n",
              "      <td>382869</td>\n",
              "      <td>40339</td>\n",
              "      <td>43452411</td>\n",
              "      <td>e</td>\n",
              "      <td>Edge</td>\n",
              "      <td>Tablet</td>\n",
              "      <td>0</td>\n",
              "    </tr>\n",
              "    <tr>\n",
              "      <th>12137809</th>\n",
              "      <td>2017-01-11 13:51:26</td>\n",
              "      <td>NaN</td>\n",
              "      <td>879032</td>\n",
              "      <td>92704</td>\n",
              "      <td>95441506</td>\n",
              "      <td>c</td>\n",
              "      <td>Google Chrome</td>\n",
              "      <td>Mobile</td>\n",
              "      <td>0</td>\n",
              "    </tr>\n",
              "  </tbody>\n",
              "</table>\n",
              "<p>11700596 rows × 9 columns</p>\n",
              "</div>"
            ],
            "text/plain": [
              "                     datetime     siteid  ...    devid  click\n",
              "0         2017-01-14 09:42:09  4709696.0  ...      NaN      0\n",
              "1         2017-01-18 17:50:53  5189467.0  ...  Desktop      0\n",
              "2         2017-01-11 12:46:49    98480.0  ...      NaN      0\n",
              "3         2017-01-17 10:18:43  8896401.0  ...   Mobile      0\n",
              "4         2017-01-14 16:02:33  5635120.0  ...  Desktop      0\n",
              "...                       ...        ...  ...      ...    ...\n",
              "12137805  2017-01-16 14:43:18  9219361.0  ...   Mobile      0\n",
              "12137806  2017-01-13 11:59:51  8720884.0  ...   Mobile      0\n",
              "12137807  2017-01-12 11:23:33  6908273.0  ...   Mobile      0\n",
              "12137808  2017-01-14 08:21:19  8075597.0  ...   Tablet      0\n",
              "12137809  2017-01-11 13:51:26        NaN  ...   Mobile      0\n",
              "\n",
              "[11700596 rows x 9 columns]"
            ]
          },
          "metadata": {},
          "execution_count": 18
        }
      ]
    },
    {
      "cell_type": "code",
      "metadata": {
        "id": "vfgJ39LmsTf7"
      },
      "source": [
        "df_0 = df[df.click==0]"
      ],
      "execution_count": 19,
      "outputs": []
    },
    {
      "cell_type": "code",
      "metadata": {
        "id": "cDHNIjVJsTkK"
      },
      "source": [
        " #Getting indices of majority class having any value missing so that we can remove them.\n",
        "\n",
        "total = df_0.isnull().sum(axis=1).sort_values(ascending=False)\n",
        "percent = (df_0.isnull().sum(axis=1)/df_0.isnull().count(axis=1)).sort_values(ascending=False)\n",
        "missing_data = pd.concat([total, percent], axis=1, keys=['Total_missing_values_per_row', 'Percent'])\n",
        "index = missing_data[missing_data.Percent > 0].index"
      ],
      "execution_count": 20,
      "outputs": []
    },
    {
      "cell_type": "code",
      "metadata": {
        "id": "OK7cP2lQsTl8"
      },
      "source": [
        "df_1 = df[df.click==1]  "
      ],
      "execution_count": 21,
      "outputs": []
    },
    {
      "cell_type": "code",
      "metadata": {
        "colab": {
          "base_uri": "https://localhost:8080/"
        },
        "id": "ZYZ0qEJVsTqJ",
        "outputId": "0a5f79c5-6909-42e7-dde2-6ab928f18b70"
      },
      "source": [
        "total2 = df_1.isnull().sum(axis=1).sort_values(ascending=False)\n",
        "percent2 = (df_1.isnull().sum(axis=1)/df_1.isnull().count(axis=1)).sort_values(ascending=False)\n",
        "missing_data2 = pd.concat([total2, percent2], axis=1, keys=['Total_missing_values_per_row2', 'Percent2'])\n",
        "missing_data2[missing_data2.Percent2 > 0].index"
      ],
      "execution_count": 22,
      "outputs": [
        {
          "output_type": "execute_result",
          "data": {
            "text/plain": [
              "Int64Index([ 5428908,  4031984,  5403458,  6304301,  8140332, 11199787,\n",
              "             6092089, 11704473, 10136057,  4004474,\n",
              "            ...\n",
              "             1070587, 12003219, 11013552, 11013544,   672004,   671895,\n",
              "            11559893, 11557898,  1551526,   680378],\n",
              "           dtype='int64', length=119714)"
            ]
          },
          "metadata": {},
          "execution_count": 22
        }
      ]
    },
    {
      "cell_type": "markdown",
      "metadata": {
        "id": "IBItNzEuteNe"
      },
      "source": [
        "First, we'll remove rows with click = 0 having any Nan values. We were able to remove 3,196,483 rows by this method."
      ]
    },
    {
      "cell_type": "code",
      "metadata": {
        "id": "1QjhPOqlsTrv"
      },
      "source": [
        "df.drop(index,inplace=True)"
      ],
      "execution_count": 23,
      "outputs": []
    },
    {
      "cell_type": "code",
      "metadata": {
        "colab": {
          "base_uri": "https://localhost:8080/"
        },
        "id": "ewD2hRyxsTwD",
        "outputId": "6e6792ff-7813-4ddd-8537-594ef6775a65"
      },
      "source": [
        "df.shape"
      ],
      "execution_count": 24,
      "outputs": [
        {
          "output_type": "execute_result",
          "data": {
            "text/plain": [
              "(8941327, 9)"
            ]
          },
          "metadata": {},
          "execution_count": 24
        }
      ]
    },
    {
      "cell_type": "markdown",
      "metadata": {
        "id": "CSH4XJ4btlM6"
      },
      "source": [
        "Now we are left with 8,941,327 datapoints. Lets check if its balanced or not."
      ]
    },
    {
      "cell_type": "code",
      "metadata": {
        "colab": {
          "base_uri": "https://localhost:8080/",
          "height": 307
        },
        "id": "nvHM5BZgsTxk",
        "outputId": "55fe1c5d-9e67-42bf-b05d-4b081760c7d4"
      },
      "source": [
        "sns.countplot(x='click', data=df) "
      ],
      "execution_count": 25,
      "outputs": [
        {
          "output_type": "execute_result",
          "data": {
            "text/plain": [
              "<matplotlib.axes._subplots.AxesSubplot at 0x7ff5b9ba0bd0>"
            ]
          },
          "metadata": {},
          "execution_count": 25
        },
        {
          "output_type": "display_data",
          "data": {
            "image/png": "[encoded data removed]",
            "text/plain": [
              "<Figure size 432x288 with 1 Axes>"
            ]
          },
          "metadata": {
            "needs_background": "light"
          }
        }
      ]
    },
    {
      "cell_type": "markdown",
      "metadata": {
        "id": "QbWJExPJts4x"
      },
      "source": [
        "Alas! It still is an imbalanced dataset!\n"
      ]
    },
    {
      "cell_type": "markdown",
      "metadata": {
        "id": "H_G55gPMtyG4"
      },
      "source": [
        "### Finding realtion between browserid and devid for missing data imputation.\n"
      ]
    },
    {
      "cell_type": "code",
      "metadata": {
        "colab": {
          "base_uri": "https://localhost:8080/",
          "height": 295
        },
        "id": "8h7n5aUOsT15",
        "outputId": "3f5e7779-8d87-439a-94b8-de918767260c"
      },
      "source": [
        "df.groupby(['browserid', 'devid']).click.count().plot(kind='barh')"
      ],
      "execution_count": 26,
      "outputs": [
        {
          "output_type": "execute_result",
          "data": {
            "text/plain": [
              "<matplotlib.axes._subplots.AxesSubplot at 0x7ff5b965b750>"
            ]
          },
          "metadata": {},
          "execution_count": 26
        },
        {
          "output_type": "display_data",
          "data": {
            "image/png": "[encoded data removed]",
            "text/plain": [
              "<Figure size 432x288 with 1 Axes>"
            ]
          },
          "metadata": {
            "needs_background": "light"
          }
        }
      ]
    },
    {
      "cell_type": "code",
      "metadata": {
        "colab": {
          "base_uri": "https://localhost:8080/",
          "height": 418
        },
        "id": "0ixCJvlbsT3b",
        "outputId": "29e3018e-e34f-4d48-c914-4e188365efb7"
      },
      "source": [
        "crosstab = pd.crosstab(index=df[\"browserid\"], columns=df[\"devid\"])\n",
        "crosstab"
      ],
      "execution_count": 27,
      "outputs": [
        {
          "output_type": "execute_result",
          "data": {
            "text/html": [
              "<div>\n",
              "<style scoped>\n",
              "    .dataframe tbody tr th:only-of-type {\n",
              "        vertical-align: middle;\n",
              "    }\n",
              "\n",
              "    .dataframe tbody tr th {\n",
              "        vertical-align: top;\n",
              "    }\n",
              "\n",
              "    .dataframe thead th {\n",
              "        text-align: right;\n",
              "    }\n",
              "</style>\n",
              "<table border=\"1\" class=\"dataframe\">\n",
              "  <thead>\n",
              "    <tr style=\"text-align: right;\">\n",
              "      <th>devid</th>\n",
              "      <th>Desktop</th>\n",
              "      <th>Mobile</th>\n",
              "      <th>Tablet</th>\n",
              "    </tr>\n",
              "    <tr>\n",
              "      <th>browserid</th>\n",
              "      <th></th>\n",
              "      <th></th>\n",
              "      <th></th>\n",
              "    </tr>\n",
              "  </thead>\n",
              "  <tbody>\n",
              "    <tr>\n",
              "      <th>Chrome</th>\n",
              "      <td>265174</td>\n",
              "      <td>0</td>\n",
              "      <td>0</td>\n",
              "    </tr>\n",
              "    <tr>\n",
              "      <th>Edge</th>\n",
              "      <td>0</td>\n",
              "      <td>0</td>\n",
              "      <td>2645881</td>\n",
              "    </tr>\n",
              "    <tr>\n",
              "      <th>Firefox</th>\n",
              "      <td>0</td>\n",
              "      <td>2562152</td>\n",
              "      <td>0</td>\n",
              "    </tr>\n",
              "    <tr>\n",
              "      <th>Google Chrome</th>\n",
              "      <td>0</td>\n",
              "      <td>548883</td>\n",
              "      <td>0</td>\n",
              "    </tr>\n",
              "    <tr>\n",
              "      <th>IE</th>\n",
              "      <td>0</td>\n",
              "      <td>265416</td>\n",
              "      <td>0</td>\n",
              "    </tr>\n",
              "    <tr>\n",
              "      <th>Internet Explorer</th>\n",
              "      <td>0</td>\n",
              "      <td>0</td>\n",
              "      <td>177645</td>\n",
              "    </tr>\n",
              "    <tr>\n",
              "      <th>InternetExplorer</th>\n",
              "      <td>584550</td>\n",
              "      <td>0</td>\n",
              "      <td>0</td>\n",
              "    </tr>\n",
              "    <tr>\n",
              "      <th>Mozilla</th>\n",
              "      <td>858914</td>\n",
              "      <td>0</td>\n",
              "      <td>0</td>\n",
              "    </tr>\n",
              "    <tr>\n",
              "      <th>Mozilla Firefox</th>\n",
              "      <td>771238</td>\n",
              "      <td>0</td>\n",
              "      <td>0</td>\n",
              "    </tr>\n",
              "    <tr>\n",
              "      <th>Opera</th>\n",
              "      <td>0</td>\n",
              "      <td>88591</td>\n",
              "      <td>0</td>\n",
              "    </tr>\n",
              "    <tr>\n",
              "      <th>Safari</th>\n",
              "      <td>0</td>\n",
              "      <td>0</td>\n",
              "      <td>88423</td>\n",
              "    </tr>\n",
              "  </tbody>\n",
              "</table>\n",
              "</div>"
            ],
            "text/plain": [
              "devid              Desktop   Mobile   Tablet\n",
              "browserid                                   \n",
              "Chrome              265174        0        0\n",
              "Edge                     0        0  2645881\n",
              "Firefox                  0  2562152        0\n",
              "Google Chrome            0   548883        0\n",
              "IE                       0   265416        0\n",
              "Internet Explorer        0        0   177645\n",
              "InternetExplorer    584550        0        0\n",
              "Mozilla             858914        0        0\n",
              "Mozilla Firefox     771238        0        0\n",
              "Opera                    0    88591        0\n",
              "Safari                   0        0    88423"
            ]
          },
          "metadata": {},
          "execution_count": 27
        }
      ]
    },
    {
      "cell_type": "code",
      "metadata": {
        "colab": {
          "base_uri": "https://localhost:8080/",
          "height": 599
        },
        "id": "sgiXn29QsT8w",
        "outputId": "cff66b25-7781-47e1-a5c2-322708882929"
      },
      "source": [
        "crosstab.plot(kind=\"bar\", figsize=(12,8), stacked=True, colormap='Paired')"
      ],
      "execution_count": 28,
      "outputs": [
        {
          "output_type": "execute_result",
          "data": {
            "text/plain": [
              "<matplotlib.axes._subplots.AxesSubplot at 0x7ff5b95f58d0>"
            ]
          },
          "metadata": {},
          "execution_count": 28
        },
        {
          "output_type": "display_data",
          "data": {
            "image/png": "[encoded data removed]",
            "text/plain": [
              "<Figure size 864x576 with 1 Axes>"
            ]
          },
          "metadata": {
            "needs_background": "light"
          }
        }
      ]
    },
    {
      "cell_type": "markdown",
      "metadata": {
        "id": "4UFyBEy6t8hr"
      },
      "source": [
        "Yay! Clearly, dev id depends on browserid. We would impute devid based on browserid.\n"
      ]
    },
    {
      "cell_type": "code",
      "metadata": {
        "colab": {
          "base_uri": "https://localhost:8080/"
        },
        "id": "grq-nd2DsT_y",
        "outputId": "8247756b-9a13-4849-ff15-123ea5ad3d46"
      },
      "source": [
        "df.nunique().sort_values()"
      ],
      "execution_count": 29,
      "outputs": [
        {
          "output_type": "execute_result",
          "data": {
            "text/plain": [
              "click               2\n",
              "devid               3\n",
              "countrycode         6\n",
              "browserid          11\n",
              "category          271\n",
              "merchant          697\n",
              "siteid         219014\n",
              "datetime       513374\n",
              "offerid        809977\n",
              "dtype: int64"
            ]
          },
          "metadata": {},
          "execution_count": 29
        }
      ]
    },
    {
      "cell_type": "code",
      "metadata": {
        "id": "TcaH30ycsUCv"
      },
      "source": [
        "ones = int(len(df[df['click'] == 1])*1.5)\n",
        "\n",
        "zeros = df[df.click == 0].index\n",
        "\n",
        "random_indices = np.random.choice(zeros,ones,replace=False)\n",
        "\n",
        "one_indices = df[df.click == 1].index\n",
        "\n",
        "under_sample_indices = np.concatenate([one_indices,random_indices])\n",
        "\n",
        "under_sample = df.loc[under_sample_indices]\n",
        "\n",
        "df = under_sample"
      ],
      "execution_count": 30,
      "outputs": []
    },
    {
      "cell_type": "code",
      "metadata": {
        "colab": {
          "base_uri": "https://localhost:8080/",
          "height": 417
        },
        "id": "fAwD9b6VsUE5",
        "outputId": "1d2683a6-c2d6-4397-8273-f8c3b1e96ff8"
      },
      "source": [
        "df"
      ],
      "execution_count": 31,
      "outputs": [
        {
          "output_type": "execute_result",
          "data": {
            "text/html": [
              "<div>\n",
              "<style scoped>\n",
              "    .dataframe tbody tr th:only-of-type {\n",
              "        vertical-align: middle;\n",
              "    }\n",
              "\n",
              "    .dataframe tbody tr th {\n",
              "        vertical-align: top;\n",
              "    }\n",
              "\n",
              "    .dataframe thead th {\n",
              "        text-align: right;\n",
              "    }\n",
              "</style>\n",
              "<table border=\"1\" class=\"dataframe\">\n",
              "  <thead>\n",
              "    <tr style=\"text-align: right;\">\n",
              "      <th></th>\n",
              "      <th>datetime</th>\n",
              "      <th>siteid</th>\n",
              "      <th>offerid</th>\n",
              "      <th>category</th>\n",
              "      <th>merchant</th>\n",
              "      <th>countrycode</th>\n",
              "      <th>browserid</th>\n",
              "      <th>devid</th>\n",
              "      <th>click</th>\n",
              "    </tr>\n",
              "  </thead>\n",
              "  <tbody>\n",
              "    <tr>\n",
              "      <th>13</th>\n",
              "      <td>2017-01-15 21:43:34</td>\n",
              "      <td>6718234.0</td>\n",
              "      <td>433512</td>\n",
              "      <td>43612</td>\n",
              "      <td>57517812</td>\n",
              "      <td>c</td>\n",
              "      <td>NaN</td>\n",
              "      <td>Desktop</td>\n",
              "      <td>1</td>\n",
              "    </tr>\n",
              "    <tr>\n",
              "      <th>16</th>\n",
              "      <td>2017-01-10 15:28:24</td>\n",
              "      <td>469603.0</td>\n",
              "      <td>385750</td>\n",
              "      <td>93286</td>\n",
              "      <td>7122654</td>\n",
              "      <td>a</td>\n",
              "      <td>Google Chrome</td>\n",
              "      <td>Mobile</td>\n",
              "      <td>1</td>\n",
              "    </tr>\n",
              "    <tr>\n",
              "      <th>35</th>\n",
              "      <td>2017-01-14 19:01:18</td>\n",
              "      <td>5369414.0</td>\n",
              "      <td>513860</td>\n",
              "      <td>27655</td>\n",
              "      <td>92826840</td>\n",
              "      <td>f</td>\n",
              "      <td>Google Chrome</td>\n",
              "      <td>Mobile</td>\n",
              "      <td>1</td>\n",
              "    </tr>\n",
              "    <tr>\n",
              "      <th>67</th>\n",
              "      <td>2017-01-11 19:21:58</td>\n",
              "      <td>6005717.0</td>\n",
              "      <td>956737</td>\n",
              "      <td>1678</td>\n",
              "      <td>60293830</td>\n",
              "      <td>f</td>\n",
              "      <td>InternetExplorer</td>\n",
              "      <td>Desktop</td>\n",
              "      <td>1</td>\n",
              "    </tr>\n",
              "    <tr>\n",
              "      <th>90</th>\n",
              "      <td>2017-01-16 14:29:36</td>\n",
              "      <td>7979331.0</td>\n",
              "      <td>501647</td>\n",
              "      <td>68947</td>\n",
              "      <td>58321067</td>\n",
              "      <td>f</td>\n",
              "      <td>Mozilla</td>\n",
              "      <td>Desktop</td>\n",
              "      <td>1</td>\n",
              "    </tr>\n",
              "    <tr>\n",
              "      <th>...</th>\n",
              "      <td>...</td>\n",
              "      <td>...</td>\n",
              "      <td>...</td>\n",
              "      <td>...</td>\n",
              "      <td>...</td>\n",
              "      <td>...</td>\n",
              "      <td>...</td>\n",
              "      <td>...</td>\n",
              "      <td>...</td>\n",
              "    </tr>\n",
              "    <tr>\n",
              "      <th>8813846</th>\n",
              "      <td>2017-01-19 10:33:22</td>\n",
              "      <td>1742689.0</td>\n",
              "      <td>389662</td>\n",
              "      <td>12211</td>\n",
              "      <td>58163546</td>\n",
              "      <td>a</td>\n",
              "      <td>Google Chrome</td>\n",
              "      <td>Mobile</td>\n",
              "      <td>0</td>\n",
              "    </tr>\n",
              "    <tr>\n",
              "      <th>9006132</th>\n",
              "      <td>2017-01-15 10:20:54</td>\n",
              "      <td>8789105.0</td>\n",
              "      <td>60899</td>\n",
              "      <td>904</td>\n",
              "      <td>26391770</td>\n",
              "      <td>b</td>\n",
              "      <td>Firefox</td>\n",
              "      <td>Mobile</td>\n",
              "      <td>0</td>\n",
              "    </tr>\n",
              "    <tr>\n",
              "      <th>4091313</th>\n",
              "      <td>2017-01-17 09:09:14</td>\n",
              "      <td>7225960.0</td>\n",
              "      <td>890371</td>\n",
              "      <td>42227</td>\n",
              "      <td>32738053</td>\n",
              "      <td>a</td>\n",
              "      <td>Firefox</td>\n",
              "      <td>Mobile</td>\n",
              "      <td>0</td>\n",
              "    </tr>\n",
              "    <tr>\n",
              "      <th>254016</th>\n",
              "      <td>2017-01-10 12:11:24</td>\n",
              "      <td>6673472.0</td>\n",
              "      <td>224559</td>\n",
              "      <td>41706</td>\n",
              "      <td>4000296</td>\n",
              "      <td>b</td>\n",
              "      <td>Mozilla Firefox</td>\n",
              "      <td>Desktop</td>\n",
              "      <td>0</td>\n",
              "    </tr>\n",
              "    <tr>\n",
              "      <th>3010715</th>\n",
              "      <td>2017-01-20 16:52:52</td>\n",
              "      <td>3586293.0</td>\n",
              "      <td>452607</td>\n",
              "      <td>82396</td>\n",
              "      <td>71063188</td>\n",
              "      <td>e</td>\n",
              "      <td>Chrome</td>\n",
              "      <td>Desktop</td>\n",
              "      <td>0</td>\n",
              "    </tr>\n",
              "  </tbody>\n",
              "</table>\n",
              "<p>1093035 rows × 9 columns</p>\n",
              "</div>"
            ],
            "text/plain": [
              "                    datetime     siteid  ...    devid  click\n",
              "13       2017-01-15 21:43:34  6718234.0  ...  Desktop      1\n",
              "16       2017-01-10 15:28:24   469603.0  ...   Mobile      1\n",
              "35       2017-01-14 19:01:18  5369414.0  ...   Mobile      1\n",
              "67       2017-01-11 19:21:58  6005717.0  ...  Desktop      1\n",
              "90       2017-01-16 14:29:36  7979331.0  ...  Desktop      1\n",
              "...                      ...        ...  ...      ...    ...\n",
              "8813846  2017-01-19 10:33:22  1742689.0  ...   Mobile      0\n",
              "9006132  2017-01-15 10:20:54  8789105.0  ...   Mobile      0\n",
              "4091313  2017-01-17 09:09:14  7225960.0  ...   Mobile      0\n",
              "254016   2017-01-10 12:11:24  6673472.0  ...  Desktop      0\n",
              "3010715  2017-01-20 16:52:52  3586293.0  ...  Desktop      0\n",
              "\n",
              "[1093035 rows x 9 columns]"
            ]
          },
          "metadata": {},
          "execution_count": 31
        }
      ]
    },
    {
      "cell_type": "markdown",
      "metadata": {
        "id": "le3tgYhduIW7"
      },
      "source": [
        "Lets have a look at the undersampled data distribution.\n"
      ]
    },
    {
      "cell_type": "code",
      "metadata": {
        "colab": {
          "base_uri": "https://localhost:8080/",
          "height": 296
        },
        "id": "v9n-obOYsUIW",
        "outputId": "ff174ede-8bbc-4a21-fbb5-093e3a236f3a"
      },
      "source": [
        "sns.countplot(x='click', data=df)"
      ],
      "execution_count": 32,
      "outputs": [
        {
          "output_type": "execute_result",
          "data": {
            "text/plain": [
              "<matplotlib.axes._subplots.AxesSubplot at 0x7ff5b94f2710>"
            ]
          },
          "metadata": {},
          "execution_count": 32
        },
        {
          "output_type": "display_data",
          "data": {
            "image/png": "[encoded data removed]",
            "text/plain": [
              "<Figure size 432x288 with 1 Axes>"
            ]
          },
          "metadata": {
            "needs_background": "light"
          }
        }
      ]
    },
    {
      "cell_type": "markdown",
      "metadata": {
        "id": "_FpXcXCOuOyb"
      },
      "source": [
        "Nice! This distribution now seems good. Lets analyse whether we were able to retain most of categories.\n"
      ]
    },
    {
      "cell_type": "code",
      "metadata": {
        "colab": {
          "base_uri": "https://localhost:8080/"
        },
        "id": "AF-mYa_WsUKI",
        "outputId": "39abc93d-b64c-4f96-e46d-b859d2b866e8"
      },
      "source": [
        "# Unique categories left in each column after undersampling.\n",
        "df.nunique().sort_values()"
      ],
      "execution_count": 33,
      "outputs": [
        {
          "output_type": "execute_result",
          "data": {
            "text/plain": [
              "click               2\n",
              "devid               3\n",
              "countrycode         6\n",
              "browserid          11\n",
              "category          271\n",
              "merchant          697\n",
              "siteid         210508\n",
              "offerid        384863\n",
              "datetime       435386\n",
              "dtype: int64"
            ]
          },
          "metadata": {},
          "execution_count": 33
        }
      ]
    },
    {
      "cell_type": "markdown",
      "metadata": {
        "id": "QrAH-xv2uU57"
      },
      "source": [
        "# Filling out missing values\n"
      ]
    },
    {
      "cell_type": "code",
      "metadata": {
        "colab": {
          "base_uri": "https://localhost:8080/"
        },
        "id": "YgIfoUDrsUOg",
        "outputId": "fe40fafb-ec8c-40e9-ce8a-d2e81fe953db"
      },
      "source": [
        "df.isnull().sum()"
      ],
      "execution_count": 34,
      "outputs": [
        {
          "output_type": "execute_result",
          "data": {
            "text/plain": [
              "datetime           0\n",
              "siteid         43507\n",
              "offerid            0\n",
              "category           0\n",
              "merchant           0\n",
              "countrycode        0\n",
              "browserid      21714\n",
              "devid          66033\n",
              "click              0\n",
              "dtype: int64"
            ]
          },
          "metadata": {},
          "execution_count": 34
        }
      ]
    },
    {
      "cell_type": "code",
      "metadata": {
        "colab": {
          "base_uri": "https://localhost:8080/",
          "height": 500
        },
        "id": "4vgU7T58sUQX",
        "outputId": "8d971d99-4261-4790-dd73-ed86678165a6"
      },
      "source": [
        "\n",
        "\n",
        "plt.figure(figsize = (12,8))\n",
        "sns.heatmap(df.isnull(), yticklabels = False, cbar = False, cmap = 'viridis')"
      ],
      "execution_count": 35,
      "outputs": [
        {
          "output_type": "execute_result",
          "data": {
            "text/plain": [
              "<matplotlib.axes._subplots.AxesSubplot at 0x7ff5b94d0410>"
            ]
          },
          "metadata": {},
          "execution_count": 35
        },
        {
          "output_type": "display_data",
          "data": {
            "image/png": "[encoded data removed]",
            "text/plain": [
              "<Figure size 864x576 with 1 Axes>"
            ]
          },
          "metadata": {
            "needs_background": "light"
          }
        }
      ]
    },
    {
      "cell_type": "code",
      "metadata": {
        "colab": {
          "base_uri": "https://localhost:8080/",
          "height": 203
        },
        "id": "oAD_NUiDsUU8",
        "outputId": "eb22faec-c920-4fa1-eddd-85c8194c752c"
      },
      "source": [
        "df.head()"
      ],
      "execution_count": 36,
      "outputs": [
        {
          "output_type": "execute_result",
          "data": {
            "text/html": [
              "<div>\n",
              "<style scoped>\n",
              "    .dataframe tbody tr th:only-of-type {\n",
              "        vertical-align: middle;\n",
              "    }\n",
              "\n",
              "    .dataframe tbody tr th {\n",
              "        vertical-align: top;\n",
              "    }\n",
              "\n",
              "    .dataframe thead th {\n",
              "        text-align: right;\n",
              "    }\n",
              "</style>\n",
              "<table border=\"1\" class=\"dataframe\">\n",
              "  <thead>\n",
              "    <tr style=\"text-align: right;\">\n",
              "      <th></th>\n",
              "      <th>datetime</th>\n",
              "      <th>siteid</th>\n",
              "      <th>offerid</th>\n",
              "      <th>category</th>\n",
              "      <th>merchant</th>\n",
              "      <th>countrycode</th>\n",
              "      <th>browserid</th>\n",
              "      <th>devid</th>\n",
              "      <th>click</th>\n",
              "    </tr>\n",
              "  </thead>\n",
              "  <tbody>\n",
              "    <tr>\n",
              "      <th>13</th>\n",
              "      <td>2017-01-15 21:43:34</td>\n",
              "      <td>6718234.0</td>\n",
              "      <td>433512</td>\n",
              "      <td>43612</td>\n",
              "      <td>57517812</td>\n",
              "      <td>c</td>\n",
              "      <td>NaN</td>\n",
              "      <td>Desktop</td>\n",
              "      <td>1</td>\n",
              "    </tr>\n",
              "    <tr>\n",
              "      <th>16</th>\n",
              "      <td>2017-01-10 15:28:24</td>\n",
              "      <td>469603.0</td>\n",
              "      <td>385750</td>\n",
              "      <td>93286</td>\n",
              "      <td>7122654</td>\n",
              "      <td>a</td>\n",
              "      <td>Google Chrome</td>\n",
              "      <td>Mobile</td>\n",
              "      <td>1</td>\n",
              "    </tr>\n",
              "    <tr>\n",
              "      <th>35</th>\n",
              "      <td>2017-01-14 19:01:18</td>\n",
              "      <td>5369414.0</td>\n",
              "      <td>513860</td>\n",
              "      <td>27655</td>\n",
              "      <td>92826840</td>\n",
              "      <td>f</td>\n",
              "      <td>Google Chrome</td>\n",
              "      <td>Mobile</td>\n",
              "      <td>1</td>\n",
              "    </tr>\n",
              "    <tr>\n",
              "      <th>67</th>\n",
              "      <td>2017-01-11 19:21:58</td>\n",
              "      <td>6005717.0</td>\n",
              "      <td>956737</td>\n",
              "      <td>1678</td>\n",
              "      <td>60293830</td>\n",
              "      <td>f</td>\n",
              "      <td>InternetExplorer</td>\n",
              "      <td>Desktop</td>\n",
              "      <td>1</td>\n",
              "    </tr>\n",
              "    <tr>\n",
              "      <th>90</th>\n",
              "      <td>2017-01-16 14:29:36</td>\n",
              "      <td>7979331.0</td>\n",
              "      <td>501647</td>\n",
              "      <td>68947</td>\n",
              "      <td>58321067</td>\n",
              "      <td>f</td>\n",
              "      <td>Mozilla</td>\n",
              "      <td>Desktop</td>\n",
              "      <td>1</td>\n",
              "    </tr>\n",
              "  </tbody>\n",
              "</table>\n",
              "</div>"
            ],
            "text/plain": [
              "               datetime     siteid  offerid  ...         browserid    devid click\n",
              "13  2017-01-15 21:43:34  6718234.0   433512  ...               NaN  Desktop     1\n",
              "16  2017-01-10 15:28:24   469603.0   385750  ...     Google Chrome   Mobile     1\n",
              "35  2017-01-14 19:01:18  5369414.0   513860  ...     Google Chrome   Mobile     1\n",
              "67  2017-01-11 19:21:58  6005717.0   956737  ...  InternetExplorer  Desktop     1\n",
              "90  2017-01-16 14:29:36  7979331.0   501647  ...           Mozilla  Desktop     1\n",
              "\n",
              "[5 rows x 9 columns]"
            ]
          },
          "metadata": {},
          "execution_count": 36
        }
      ]
    },
    {
      "cell_type": "code",
      "metadata": {
        "colab": {
          "base_uri": "https://localhost:8080/",
          "height": 265
        },
        "id": "P60nFbDrsUWl",
        "outputId": "d3cd8fac-d6dd-4d93-d3e0-6704f5a8469a"
      },
      "source": [
        "crosstab = pd.crosstab(index=df[\"countrycode\"], columns=df[\"browserid\"])\n",
        "crosstab"
      ],
      "execution_count": 37,
      "outputs": [
        {
          "output_type": "execute_result",
          "data": {
            "text/html": [
              "<div>\n",
              "<style scoped>\n",
              "    .dataframe tbody tr th:only-of-type {\n",
              "        vertical-align: middle;\n",
              "    }\n",
              "\n",
              "    .dataframe tbody tr th {\n",
              "        vertical-align: top;\n",
              "    }\n",
              "\n",
              "    .dataframe thead th {\n",
              "        text-align: right;\n",
              "    }\n",
              "</style>\n",
              "<table border=\"1\" class=\"dataframe\">\n",
              "  <thead>\n",
              "    <tr style=\"text-align: right;\">\n",
              "      <th>browserid</th>\n",
              "      <th>Chrome</th>\n",
              "      <th>Edge</th>\n",
              "      <th>Firefox</th>\n",
              "      <th>Google Chrome</th>\n",
              "      <th>IE</th>\n",
              "      <th>Internet Explorer</th>\n",
              "      <th>InternetExplorer</th>\n",
              "      <th>Mozilla</th>\n",
              "      <th>Mozilla Firefox</th>\n",
              "      <th>Opera</th>\n",
              "      <th>Safari</th>\n",
              "    </tr>\n",
              "    <tr>\n",
              "      <th>countrycode</th>\n",
              "      <th></th>\n",
              "      <th></th>\n",
              "      <th></th>\n",
              "      <th></th>\n",
              "      <th></th>\n",
              "      <th></th>\n",
              "      <th></th>\n",
              "      <th></th>\n",
              "      <th></th>\n",
              "      <th></th>\n",
              "      <th></th>\n",
              "    </tr>\n",
              "  </thead>\n",
              "  <tbody>\n",
              "    <tr>\n",
              "      <th>a</th>\n",
              "      <td>5618</td>\n",
              "      <td>51218</td>\n",
              "      <td>49922</td>\n",
              "      <td>15375</td>\n",
              "      <td>5504</td>\n",
              "      <td>3614</td>\n",
              "      <td>17413</td>\n",
              "      <td>16821</td>\n",
              "      <td>15172</td>\n",
              "      <td>1809</td>\n",
              "      <td>1846</td>\n",
              "    </tr>\n",
              "    <tr>\n",
              "      <th>b</th>\n",
              "      <td>9622</td>\n",
              "      <td>92313</td>\n",
              "      <td>89038</td>\n",
              "      <td>21915</td>\n",
              "      <td>9413</td>\n",
              "      <td>6392</td>\n",
              "      <td>24195</td>\n",
              "      <td>29906</td>\n",
              "      <td>27116</td>\n",
              "      <td>3125</td>\n",
              "      <td>3147</td>\n",
              "    </tr>\n",
              "    <tr>\n",
              "      <th>c</th>\n",
              "      <td>7253</td>\n",
              "      <td>14390</td>\n",
              "      <td>18046</td>\n",
              "      <td>74131</td>\n",
              "      <td>7267</td>\n",
              "      <td>4834</td>\n",
              "      <td>95107</td>\n",
              "      <td>7313</td>\n",
              "      <td>7160</td>\n",
              "      <td>2405</td>\n",
              "      <td>2466</td>\n",
              "    </tr>\n",
              "    <tr>\n",
              "      <th>d</th>\n",
              "      <td>4772</td>\n",
              "      <td>12533</td>\n",
              "      <td>14762</td>\n",
              "      <td>45398</td>\n",
              "      <td>4734</td>\n",
              "      <td>3063</td>\n",
              "      <td>57916</td>\n",
              "      <td>5773</td>\n",
              "      <td>5432</td>\n",
              "      <td>1517</td>\n",
              "      <td>1535</td>\n",
              "    </tr>\n",
              "    <tr>\n",
              "      <th>e</th>\n",
              "      <td>2617</td>\n",
              "      <td>20770</td>\n",
              "      <td>20154</td>\n",
              "      <td>10709</td>\n",
              "      <td>2489</td>\n",
              "      <td>1793</td>\n",
              "      <td>12828</td>\n",
              "      <td>7019</td>\n",
              "      <td>6367</td>\n",
              "      <td>897</td>\n",
              "      <td>810</td>\n",
              "    </tr>\n",
              "    <tr>\n",
              "      <th>f</th>\n",
              "      <td>2638</td>\n",
              "      <td>20888</td>\n",
              "      <td>20528</td>\n",
              "      <td>10482</td>\n",
              "      <td>2653</td>\n",
              "      <td>1768</td>\n",
              "      <td>12577</td>\n",
              "      <td>7020</td>\n",
              "      <td>6197</td>\n",
              "      <td>896</td>\n",
              "      <td>920</td>\n",
              "    </tr>\n",
              "  </tbody>\n",
              "</table>\n",
              "</div>"
            ],
            "text/plain": [
              "browserid    Chrome   Edge  Firefox  ...  Mozilla Firefox  Opera  Safari\n",
              "countrycode                          ...                                \n",
              "a              5618  51218    49922  ...            15172   1809    1846\n",
              "b              9622  92313    89038  ...            27116   3125    3147\n",
              "c              7253  14390    18046  ...             7160   2405    2466\n",
              "d              4772  12533    14762  ...             5432   1517    1535\n",
              "e              2617  20770    20154  ...             6367    897     810\n",
              "f              2638  20888    20528  ...             6197    896     920\n",
              "\n",
              "[6 rows x 11 columns]"
            ]
          },
          "metadata": {},
          "execution_count": 37
        }
      ]
    },
    {
      "cell_type": "code",
      "metadata": {
        "colab": {
          "base_uri": "https://localhost:8080/",
          "height": 510
        },
        "id": "Vv-MVsYosUbw",
        "outputId": "23562ec4-b2a9-446c-e1e3-b5325a84f076"
      },
      "source": [
        "crosstab.plot(kind=\"bar\", figsize=(12,8), stacked=True, colormap='Paired')"
      ],
      "execution_count": 38,
      "outputs": [
        {
          "output_type": "execute_result",
          "data": {
            "text/plain": [
              "<matplotlib.axes._subplots.AxesSubplot at 0x7ff5b0bdf2d0>"
            ]
          },
          "metadata": {},
          "execution_count": 38
        },
        {
          "output_type": "display_data",
          "data": {
            "image/png": "[encoded data removed]",
            "text/plain": [
              "<Figure size 864x576 with 1 Axes>"
            ]
          },
          "metadata": {
            "needs_background": "light"
          }
        }
      ]
    },
    {
      "cell_type": "markdown",
      "metadata": {
        "id": "I5fB1pDdulRV"
      },
      "source": [
        "## 1. First for browserid\n",
        "Browserid is to be filled based on country. \n",
        "Lets check missing browser values countrywise."
      ]
    },
    {
      "cell_type": "code",
      "metadata": {
        "colab": {
          "base_uri": "https://localhost:8080/"
        },
        "id": "ilV6LuEnsUdY",
        "outputId": "df02bd9d-a3d1-45d3-f54b-eea03860ac61"
      },
      "source": [
        "print(\"For country A:\",df[df.countrycode=='a']['browserid'].isnull().sum())\n",
        "print(\"For country B:\",df[df.countrycode=='b']['browserid'].isnull().sum())\n",
        "print(\"For country C:\",df[df.countrycode=='c']['browserid'].isnull().sum())\n",
        "print(\"For country D:\",df[df.countrycode=='d']['browserid'].isnull().sum())\n",
        "print(\"For country E:\",df[df.countrycode=='e']['browserid'].isnull().sum())\n",
        "print(\"For country F:\",df[df.countrycode=='f']['browserid'].isnull().sum())"
      ],
      "execution_count": 39,
      "outputs": [
        {
          "output_type": "stream",
          "text": [
            "For country A: 1088\n",
            "For country B: 1048\n",
            "For country C: 10778\n",
            "For country D: 6645\n",
            "For country E: 1089\n",
            "For country F: 1066\n"
          ],
          "name": "stdout"
        }
      ]
    },
    {
      "cell_type": "markdown",
      "metadata": {
        "id": "CJen2mLturD_"
      },
      "source": [
        "Lets try to find the mode value of browser country-wise using plots.\n"
      ]
    },
    {
      "cell_type": "code",
      "metadata": {
        "colab": {
          "base_uri": "https://localhost:8080/",
          "height": 282
        },
        "id": "fWqpYR13sUgw",
        "outputId": "665e1a03-933e-439d-8667-de2876d754d5"
      },
      "source": [
        "df[df.countrycode=='a'].groupby(['countrycode','browserid']).click.count().plot(kind='barh')"
      ],
      "execution_count": 40,
      "outputs": [
        {
          "output_type": "execute_result",
          "data": {
            "text/plain": [
              "<matplotlib.axes._subplots.AxesSubplot at 0x7ff5b0aafa50>"
            ]
          },
          "metadata": {},
          "execution_count": 40
        },
        {
          "output_type": "display_data",
          "data": {
            "image/png": "[encoded data removed]",
            "text/plain": [
              "<Figure size 432x288 with 1 Axes>"
            ]
          },
          "metadata": {
            "needs_background": "light"
          }
        }
      ]
    },
    {
      "cell_type": "code",
      "metadata": {
        "colab": {
          "base_uri": "https://localhost:8080/",
          "height": 282
        },
        "id": "5y6FyQfQsUit",
        "outputId": "198317fd-7ee2-4f4e-dc23-5347a0855355"
      },
      "source": [
        "df[df.countrycode=='b'].groupby(['countrycode','browserid']).click.count().plot(kind='barh')"
      ],
      "execution_count": 41,
      "outputs": [
        {
          "output_type": "execute_result",
          "data": {
            "text/plain": [
              "<matplotlib.axes._subplots.AxesSubplot at 0x7ff5b09cf4d0>"
            ]
          },
          "metadata": {},
          "execution_count": 41
        },
        {
          "output_type": "display_data",
          "data": {
            "image/png": "[encoded data removed]",
            "text/plain": [
              "<Figure size 432x288 with 1 Axes>"
            ]
          },
          "metadata": {
            "needs_background": "light"
          }
        }
      ]
    },
    {
      "cell_type": "code",
      "metadata": {
        "colab": {
          "base_uri": "https://localhost:8080/",
          "height": 282
        },
        "id": "V20yVcxPsUnT",
        "outputId": "386e8f8d-7370-4a3d-d054-12041eeeebf6"
      },
      "source": [
        "df[df.countrycode=='c'].groupby(['countrycode','browserid']).click.count().plot(kind='barh')"
      ],
      "execution_count": 42,
      "outputs": [
        {
          "output_type": "execute_result",
          "data": {
            "text/plain": [
              "<matplotlib.axes._subplots.AxesSubplot at 0x7ff5b09ccf10>"
            ]
          },
          "metadata": {},
          "execution_count": 42
        },
        {
          "output_type": "display_data",
          "data": {
            "image/png": "[encoded data removed]",
            "text/plain": [
              "<Figure size 432x288 with 1 Axes>"
            ]
          },
          "metadata": {
            "needs_background": "light"
          }
        }
      ]
    },
    {
      "cell_type": "code",
      "metadata": {
        "colab": {
          "base_uri": "https://localhost:8080/",
          "height": 282
        },
        "id": "EBl4N5ibsUpi",
        "outputId": "e48f2fa9-db15-4bf1-f4dd-c156c30005a4"
      },
      "source": [
        "df[df.countrycode=='d'].groupby(['countrycode','browserid']).click.count().plot(kind='barh')"
      ],
      "execution_count": 43,
      "outputs": [
        {
          "output_type": "execute_result",
          "data": {
            "text/plain": [
              "<matplotlib.axes._subplots.AxesSubplot at 0x7ff5b09218d0>"
            ]
          },
          "metadata": {},
          "execution_count": 43
        },
        {
          "output_type": "display_data",
          "data": {
            "image/png": "[encoded data removed]",
            "text/plain": [
              "<Figure size 432x288 with 1 Axes>"
            ]
          },
          "metadata": {
            "needs_background": "light"
          }
        }
      ]
    },
    {
      "cell_type": "code",
      "metadata": {
        "colab": {
          "base_uri": "https://localhost:8080/",
          "height": 282
        },
        "id": "x4Dwx68_sUvO",
        "outputId": "cee1de34-174d-4d71-f618-fa3dadb5c75b"
      },
      "source": [
        "df[df.countrycode=='e'].groupby(['countrycode','browserid']).click.count().plot(kind='barh')"
      ],
      "execution_count": 44,
      "outputs": [
        {
          "output_type": "execute_result",
          "data": {
            "text/plain": [
              "<matplotlib.axes._subplots.AxesSubplot at 0x7ff5b0b01b90>"
            ]
          },
          "metadata": {},
          "execution_count": 44
        },
        {
          "output_type": "display_data",
          "data": {
            "image/png": "[encoded data removed]",
            "text/plain": [
              "<Figure size 432x288 with 1 Axes>"
            ]
          },
          "metadata": {
            "needs_background": "light"
          }
        }
      ]
    },
    {
      "cell_type": "code",
      "metadata": {
        "colab": {
          "base_uri": "https://localhost:8080/",
          "height": 282
        },
        "id": "d1ortDhUsUw0",
        "outputId": "42637b12-a9e3-42a2-ccc3-031c4bb6eeb7"
      },
      "source": [
        "df[df.countrycode=='f'].groupby(['countrycode','browserid']).click.count().plot(kind='barh')"
      ],
      "execution_count": 45,
      "outputs": [
        {
          "output_type": "execute_result",
          "data": {
            "text/plain": [
              "<matplotlib.axes._subplots.AxesSubplot at 0x7ff5b0845510>"
            ]
          },
          "metadata": {},
          "execution_count": 45
        },
        {
          "output_type": "display_data",
          "data": {
            "image/png": "[encoded data removed]",
            "text/plain": [
              "<Figure size 432x288 with 1 Axes>"
            ]
          },
          "metadata": {
            "needs_background": "light"
          }
        }
      ]
    },
    {
      "cell_type": "markdown",
      "metadata": {
        "id": "aqriZaAWvAlD"
      },
      "source": [
        "Imputing missing vlaues for browserid\n"
      ]
    },
    {
      "cell_type": "code",
      "metadata": {
        "id": "0HXNGKCfsUza"
      },
      "source": [
        "df.loc[(df['countrycode']=='a') & (df['browserid'].isnull()) ,'browserid']='Edge'\n",
        "df.loc[(df['countrycode']=='b') & (df['browserid'].isnull()) ,'browserid']='Edge'\n",
        "df.loc[(df['countrycode']=='c') & (df['browserid'].isnull()) ,'browserid']='InternetExplorer'\n",
        "df.loc[(df['countrycode']=='d') & (df['browserid'].isnull()) ,'browserid']='InternetExplorer'\n",
        "df.loc[(df['countrycode']=='e') & (df['browserid'].isnull()) ,'browserid']='Edge'\n",
        "df.loc[(df['countrycode']=='f') & (df['browserid'].isnull()) ,'browserid']='InternetExplorer'"
      ],
      "execution_count": 46,
      "outputs": []
    },
    {
      "cell_type": "code",
      "metadata": {
        "colab": {
          "base_uri": "https://localhost:8080/"
        },
        "id": "1e9Guc8KvHfc",
        "outputId": "6e82a49a-84aa-4447-bf9c-d669b774a193"
      },
      "source": [
        "df.browserid.isnull().sum()"
      ],
      "execution_count": 47,
      "outputs": [
        {
          "output_type": "execute_result",
          "data": {
            "text/plain": [
              "0"
            ]
          },
          "metadata": {},
          "execution_count": 47
        }
      ]
    },
    {
      "cell_type": "code",
      "metadata": {
        "colab": {
          "base_uri": "https://localhost:8080/",
          "height": 588
        },
        "id": "qLyNiiT0vHh8",
        "outputId": "fae8cea8-6296-49ed-8667-77b3fd210a7c"
      },
      "source": [
        "crosstab = pd.crosstab(index=df[\"browserid\"], columns=df[\"devid\"])\n",
        "crosstab.plot(kind=\"bar\", figsize=(12,8), stacked=True, colormap='Paired')"
      ],
      "execution_count": 48,
      "outputs": [
        {
          "output_type": "execute_result",
          "data": {
            "text/plain": [
              "<matplotlib.axes._subplots.AxesSubplot at 0x7ff5b076ed10>"
            ]
          },
          "metadata": {},
          "execution_count": 48
        },
        {
          "output_type": "display_data",
          "data": {
            "image/png": "[encoded data removed]",
            "text/plain": [
              "<Figure size 864x576 with 1 Axes>"
            ]
          },
          "metadata": {
            "needs_background": "light"
          }
        }
      ]
    },
    {
      "cell_type": "code",
      "metadata": {
        "id": "hmt8ZSC5vHmz"
      },
      "source": [
        "df.loc[((df['browserid']=='Safari')|(df['browserid']=='Edge')|(df['browserid']=='Internet Explorer')) & (df['devid'].isnull()) ,'devid']='Tablet'\n",
        "df.loc[((df['browserid']=='Opera')|(df['browserid']=='IE')|(df['browserid']=='Firefox')|(df['browserid']=='Google Chrome')) & (df['devid'].isnull()) ,'devid']='Mobile'\n",
        "df.loc[((df['browserid']=='InternetExplorer')|(df['browserid']=='Mozilla')|(df['browserid']=='Mozilla Firefox')|(df['browserid']=='Chrome')) & (df['devid'].isnull()) ,'devid']='Desktop'"
      ],
      "execution_count": 49,
      "outputs": []
    },
    {
      "cell_type": "code",
      "metadata": {
        "colab": {
          "base_uri": "https://localhost:8080/"
        },
        "id": "egqrUPdyvHo0",
        "outputId": "ec57613d-a480-455b-a181-4c42fe25faf6"
      },
      "source": [
        "df['devid'].isnull().sum()"
      ],
      "execution_count": 50,
      "outputs": [
        {
          "output_type": "execute_result",
          "data": {
            "text/plain": [
              "0"
            ]
          },
          "metadata": {},
          "execution_count": 50
        }
      ]
    },
    {
      "cell_type": "markdown",
      "metadata": {
        "id": "e4MGLnMMvXjY"
      },
      "source": [
        "Feature Engineering : Extracting time information from datetime column."
      ]
    },
    {
      "cell_type": "code",
      "metadata": {
        "id": "1w3BOSZ-vHsY"
      },
      "source": [
        "df['new_time'] = [d.split(' ')[1] for d in df['datetime']]"
      ],
      "execution_count": 51,
      "outputs": []
    },
    {
      "cell_type": "code",
      "metadata": {
        "colab": {
          "base_uri": "https://localhost:8080/",
          "height": 203
        },
        "id": "bfv8cNYOvHwJ",
        "outputId": "47ae352b-3812-4434-c201-090fefdcc67e"
      },
      "source": [
        "df.head()"
      ],
      "execution_count": 52,
      "outputs": [
        {
          "output_type": "execute_result",
          "data": {
            "text/html": [
              "<div>\n",
              "<style scoped>\n",
              "    .dataframe tbody tr th:only-of-type {\n",
              "        vertical-align: middle;\n",
              "    }\n",
              "\n",
              "    .dataframe tbody tr th {\n",
              "        vertical-align: top;\n",
              "    }\n",
              "\n",
              "    .dataframe thead th {\n",
              "        text-align: right;\n",
              "    }\n",
              "</style>\n",
              "<table border=\"1\" class=\"dataframe\">\n",
              "  <thead>\n",
              "    <tr style=\"text-align: right;\">\n",
              "      <th></th>\n",
              "      <th>datetime</th>\n",
              "      <th>siteid</th>\n",
              "      <th>offerid</th>\n",
              "      <th>category</th>\n",
              "      <th>merchant</th>\n",
              "      <th>countrycode</th>\n",
              "      <th>browserid</th>\n",
              "      <th>devid</th>\n",
              "      <th>click</th>\n",
              "      <th>new_time</th>\n",
              "    </tr>\n",
              "  </thead>\n",
              "  <tbody>\n",
              "    <tr>\n",
              "      <th>13</th>\n",
              "      <td>2017-01-15 21:43:34</td>\n",
              "      <td>6718234.0</td>\n",
              "      <td>433512</td>\n",
              "      <td>43612</td>\n",
              "      <td>57517812</td>\n",
              "      <td>c</td>\n",
              "      <td>InternetExplorer</td>\n",
              "      <td>Desktop</td>\n",
              "      <td>1</td>\n",
              "      <td>21:43:34</td>\n",
              "    </tr>\n",
              "    <tr>\n",
              "      <th>16</th>\n",
              "      <td>2017-01-10 15:28:24</td>\n",
              "      <td>469603.0</td>\n",
              "      <td>385750</td>\n",
              "      <td>93286</td>\n",
              "      <td>7122654</td>\n",
              "      <td>a</td>\n",
              "      <td>Google Chrome</td>\n",
              "      <td>Mobile</td>\n",
              "      <td>1</td>\n",
              "      <td>15:28:24</td>\n",
              "    </tr>\n",
              "    <tr>\n",
              "      <th>35</th>\n",
              "      <td>2017-01-14 19:01:18</td>\n",
              "      <td>5369414.0</td>\n",
              "      <td>513860</td>\n",
              "      <td>27655</td>\n",
              "      <td>92826840</td>\n",
              "      <td>f</td>\n",
              "      <td>Google Chrome</td>\n",
              "      <td>Mobile</td>\n",
              "      <td>1</td>\n",
              "      <td>19:01:18</td>\n",
              "    </tr>\n",
              "    <tr>\n",
              "      <th>67</th>\n",
              "      <td>2017-01-11 19:21:58</td>\n",
              "      <td>6005717.0</td>\n",
              "      <td>956737</td>\n",
              "      <td>1678</td>\n",
              "      <td>60293830</td>\n",
              "      <td>f</td>\n",
              "      <td>InternetExplorer</td>\n",
              "      <td>Desktop</td>\n",
              "      <td>1</td>\n",
              "      <td>19:21:58</td>\n",
              "    </tr>\n",
              "    <tr>\n",
              "      <th>90</th>\n",
              "      <td>2017-01-16 14:29:36</td>\n",
              "      <td>7979331.0</td>\n",
              "      <td>501647</td>\n",
              "      <td>68947</td>\n",
              "      <td>58321067</td>\n",
              "      <td>f</td>\n",
              "      <td>Mozilla</td>\n",
              "      <td>Desktop</td>\n",
              "      <td>1</td>\n",
              "      <td>14:29:36</td>\n",
              "    </tr>\n",
              "  </tbody>\n",
              "</table>\n",
              "</div>"
            ],
            "text/plain": [
              "               datetime     siteid  offerid  ...    devid  click  new_time\n",
              "13  2017-01-15 21:43:34  6718234.0   433512  ...  Desktop      1  21:43:34\n",
              "16  2017-01-10 15:28:24   469603.0   385750  ...   Mobile      1  15:28:24\n",
              "35  2017-01-14 19:01:18  5369414.0   513860  ...   Mobile      1  19:01:18\n",
              "67  2017-01-11 19:21:58  6005717.0   956737  ...  Desktop      1  19:21:58\n",
              "90  2017-01-16 14:29:36  7979331.0   501647  ...  Desktop      1  14:29:36\n",
              "\n",
              "[5 rows x 10 columns]"
            ]
          },
          "metadata": {},
          "execution_count": 52
        }
      ]
    },
    {
      "cell_type": "code",
      "metadata": {
        "id": "xdoL_Xp_vHzM"
      },
      "source": [
        "def convertTimeToQuarter(time):\n",
        "    str_time = str(time)\n",
        "    hour = str_time.split(':')[0]\n",
        "    quarter = ''\n",
        "    if int(hour) < 6:\n",
        "        quarter = 'phase1'\n",
        "    elif int(hour) < 12: \n",
        "        quarter = 'phase2'\n",
        "    elif int(hour) < 18: \n",
        "        quarter = 'phase3'\n",
        "    else:\n",
        "        quarter = 'phase4'\n",
        "    return quarter"
      ],
      "execution_count": 53,
      "outputs": []
    },
    {
      "cell_type": "code",
      "metadata": {
        "id": "UtK_SzizvH1Z"
      },
      "source": [
        "df['time_phase'] = [convertTimeToQuarter(d) for d in df['new_time']]"
      ],
      "execution_count": 54,
      "outputs": []
    },
    {
      "cell_type": "code",
      "metadata": {
        "colab": {
          "base_uri": "https://localhost:8080/",
          "height": 417
        },
        "id": "uisTkN3IvH8W",
        "outputId": "a686bb2c-2617-451f-9daf-cba7d1183667"
      },
      "source": [
        "df.loc[:,['datetime','new_time','time_phase']]"
      ],
      "execution_count": 55,
      "outputs": [
        {
          "output_type": "execute_result",
          "data": {
            "text/html": [
              "<div>\n",
              "<style scoped>\n",
              "    .dataframe tbody tr th:only-of-type {\n",
              "        vertical-align: middle;\n",
              "    }\n",
              "\n",
              "    .dataframe tbody tr th {\n",
              "        vertical-align: top;\n",
              "    }\n",
              "\n",
              "    .dataframe thead th {\n",
              "        text-align: right;\n",
              "    }\n",
              "</style>\n",
              "<table border=\"1\" class=\"dataframe\">\n",
              "  <thead>\n",
              "    <tr style=\"text-align: right;\">\n",
              "      <th></th>\n",
              "      <th>datetime</th>\n",
              "      <th>new_time</th>\n",
              "      <th>time_phase</th>\n",
              "    </tr>\n",
              "  </thead>\n",
              "  <tbody>\n",
              "    <tr>\n",
              "      <th>13</th>\n",
              "      <td>2017-01-15 21:43:34</td>\n",
              "      <td>21:43:34</td>\n",
              "      <td>phase4</td>\n",
              "    </tr>\n",
              "    <tr>\n",
              "      <th>16</th>\n",
              "      <td>2017-01-10 15:28:24</td>\n",
              "      <td>15:28:24</td>\n",
              "      <td>phase3</td>\n",
              "    </tr>\n",
              "    <tr>\n",
              "      <th>35</th>\n",
              "      <td>2017-01-14 19:01:18</td>\n",
              "      <td>19:01:18</td>\n",
              "      <td>phase4</td>\n",
              "    </tr>\n",
              "    <tr>\n",
              "      <th>67</th>\n",
              "      <td>2017-01-11 19:21:58</td>\n",
              "      <td>19:21:58</td>\n",
              "      <td>phase4</td>\n",
              "    </tr>\n",
              "    <tr>\n",
              "      <th>90</th>\n",
              "      <td>2017-01-16 14:29:36</td>\n",
              "      <td>14:29:36</td>\n",
              "      <td>phase3</td>\n",
              "    </tr>\n",
              "    <tr>\n",
              "      <th>...</th>\n",
              "      <td>...</td>\n",
              "      <td>...</td>\n",
              "      <td>...</td>\n",
              "    </tr>\n",
              "    <tr>\n",
              "      <th>8813846</th>\n",
              "      <td>2017-01-19 10:33:22</td>\n",
              "      <td>10:33:22</td>\n",
              "      <td>phase2</td>\n",
              "    </tr>\n",
              "    <tr>\n",
              "      <th>9006132</th>\n",
              "      <td>2017-01-15 10:20:54</td>\n",
              "      <td>10:20:54</td>\n",
              "      <td>phase2</td>\n",
              "    </tr>\n",
              "    <tr>\n",
              "      <th>4091313</th>\n",
              "      <td>2017-01-17 09:09:14</td>\n",
              "      <td>09:09:14</td>\n",
              "      <td>phase2</td>\n",
              "    </tr>\n",
              "    <tr>\n",
              "      <th>254016</th>\n",
              "      <td>2017-01-10 12:11:24</td>\n",
              "      <td>12:11:24</td>\n",
              "      <td>phase3</td>\n",
              "    </tr>\n",
              "    <tr>\n",
              "      <th>3010715</th>\n",
              "      <td>2017-01-20 16:52:52</td>\n",
              "      <td>16:52:52</td>\n",
              "      <td>phase3</td>\n",
              "    </tr>\n",
              "  </tbody>\n",
              "</table>\n",
              "<p>1093035 rows × 3 columns</p>\n",
              "</div>"
            ],
            "text/plain": [
              "                    datetime  new_time time_phase\n",
              "13       2017-01-15 21:43:34  21:43:34     phase4\n",
              "16       2017-01-10 15:28:24  15:28:24     phase3\n",
              "35       2017-01-14 19:01:18  19:01:18     phase4\n",
              "67       2017-01-11 19:21:58  19:21:58     phase4\n",
              "90       2017-01-16 14:29:36  14:29:36     phase3\n",
              "...                      ...       ...        ...\n",
              "8813846  2017-01-19 10:33:22  10:33:22     phase2\n",
              "9006132  2017-01-15 10:20:54  10:20:54     phase2\n",
              "4091313  2017-01-17 09:09:14  09:09:14     phase2\n",
              "254016   2017-01-10 12:11:24  12:11:24     phase3\n",
              "3010715  2017-01-20 16:52:52  16:52:52     phase3\n",
              "\n",
              "[1093035 rows x 3 columns]"
            ]
          },
          "metadata": {},
          "execution_count": 55
        }
      ]
    },
    {
      "cell_type": "code",
      "metadata": {
        "id": "z-vbMuJKvH-4"
      },
      "source": [
        "df.drop(['datetime','new_time'], axis=1, inplace= True)"
      ],
      "execution_count": 56,
      "outputs": []
    },
    {
      "cell_type": "code",
      "metadata": {
        "colab": {
          "base_uri": "https://localhost:8080/",
          "height": 203
        },
        "id": "3DVMcb3evIEc",
        "outputId": "7523d897-557c-4ed7-eb32-0627a1db8b06"
      },
      "source": [
        "df.head()"
      ],
      "execution_count": 57,
      "outputs": [
        {
          "output_type": "execute_result",
          "data": {
            "text/html": [
              "<div>\n",
              "<style scoped>\n",
              "    .dataframe tbody tr th:only-of-type {\n",
              "        vertical-align: middle;\n",
              "    }\n",
              "\n",
              "    .dataframe tbody tr th {\n",
              "        vertical-align: top;\n",
              "    }\n",
              "\n",
              "    .dataframe thead th {\n",
              "        text-align: right;\n",
              "    }\n",
              "</style>\n",
              "<table border=\"1\" class=\"dataframe\">\n",
              "  <thead>\n",
              "    <tr style=\"text-align: right;\">\n",
              "      <th></th>\n",
              "      <th>siteid</th>\n",
              "      <th>offerid</th>\n",
              "      <th>category</th>\n",
              "      <th>merchant</th>\n",
              "      <th>countrycode</th>\n",
              "      <th>browserid</th>\n",
              "      <th>devid</th>\n",
              "      <th>click</th>\n",
              "      <th>time_phase</th>\n",
              "    </tr>\n",
              "  </thead>\n",
              "  <tbody>\n",
              "    <tr>\n",
              "      <th>13</th>\n",
              "      <td>6718234.0</td>\n",
              "      <td>433512</td>\n",
              "      <td>43612</td>\n",
              "      <td>57517812</td>\n",
              "      <td>c</td>\n",
              "      <td>InternetExplorer</td>\n",
              "      <td>Desktop</td>\n",
              "      <td>1</td>\n",
              "      <td>phase4</td>\n",
              "    </tr>\n",
              "    <tr>\n",
              "      <th>16</th>\n",
              "      <td>469603.0</td>\n",
              "      <td>385750</td>\n",
              "      <td>93286</td>\n",
              "      <td>7122654</td>\n",
              "      <td>a</td>\n",
              "      <td>Google Chrome</td>\n",
              "      <td>Mobile</td>\n",
              "      <td>1</td>\n",
              "      <td>phase3</td>\n",
              "    </tr>\n",
              "    <tr>\n",
              "      <th>35</th>\n",
              "      <td>5369414.0</td>\n",
              "      <td>513860</td>\n",
              "      <td>27655</td>\n",
              "      <td>92826840</td>\n",
              "      <td>f</td>\n",
              "      <td>Google Chrome</td>\n",
              "      <td>Mobile</td>\n",
              "      <td>1</td>\n",
              "      <td>phase4</td>\n",
              "    </tr>\n",
              "    <tr>\n",
              "      <th>67</th>\n",
              "      <td>6005717.0</td>\n",
              "      <td>956737</td>\n",
              "      <td>1678</td>\n",
              "      <td>60293830</td>\n",
              "      <td>f</td>\n",
              "      <td>InternetExplorer</td>\n",
              "      <td>Desktop</td>\n",
              "      <td>1</td>\n",
              "      <td>phase4</td>\n",
              "    </tr>\n",
              "    <tr>\n",
              "      <th>90</th>\n",
              "      <td>7979331.0</td>\n",
              "      <td>501647</td>\n",
              "      <td>68947</td>\n",
              "      <td>58321067</td>\n",
              "      <td>f</td>\n",
              "      <td>Mozilla</td>\n",
              "      <td>Desktop</td>\n",
              "      <td>1</td>\n",
              "      <td>phase3</td>\n",
              "    </tr>\n",
              "  </tbody>\n",
              "</table>\n",
              "</div>"
            ],
            "text/plain": [
              "       siteid  offerid  category  ...    devid click time_phase\n",
              "13  6718234.0   433512     43612  ...  Desktop     1     phase4\n",
              "16   469603.0   385750     93286  ...   Mobile     1     phase3\n",
              "35  5369414.0   513860     27655  ...   Mobile     1     phase4\n",
              "67  6005717.0   956737      1678  ...  Desktop     1     phase4\n",
              "90  7979331.0   501647     68947  ...  Desktop     1     phase3\n",
              "\n",
              "[5 rows x 9 columns]"
            ]
          },
          "metadata": {},
          "execution_count": 57
        }
      ]
    },
    {
      "cell_type": "markdown",
      "metadata": {
        "id": "J0SkYEquvqo3"
      },
      "source": [
        "Lastly, forward filling for missing siteid.\n"
      ]
    },
    {
      "cell_type": "code",
      "metadata": {
        "id": "SDPJAd-5vIGb"
      },
      "source": [
        "df.siteid.fillna(method='ffill', inplace=True)"
      ],
      "execution_count": 58,
      "outputs": []
    },
    {
      "cell_type": "code",
      "metadata": {
        "colab": {
          "base_uri": "https://localhost:8080/"
        },
        "id": "FrmcC6zXvIJF",
        "outputId": "f2af5f82-00f6-41e6-815f-b3f22bba92b1"
      },
      "source": [
        "df.isnull().sum()"
      ],
      "execution_count": 59,
      "outputs": [
        {
          "output_type": "execute_result",
          "data": {
            "text/plain": [
              "siteid         0\n",
              "offerid        0\n",
              "category       0\n",
              "merchant       0\n",
              "countrycode    0\n",
              "browserid      0\n",
              "devid          0\n",
              "click          0\n",
              "time_phase     0\n",
              "dtype: int64"
            ]
          },
          "metadata": {},
          "execution_count": 59
        }
      ]
    },
    {
      "cell_type": "markdown",
      "metadata": {
        "id": "SA5SuBbpvyFF"
      },
      "source": [
        "Lets have a look at the different browsers present in the data. Clearly, we can merge some of them together."
      ]
    },
    {
      "cell_type": "code",
      "metadata": {
        "colab": {
          "base_uri": "https://localhost:8080/"
        },
        "id": "7QPQ6S14vILL",
        "outputId": "9194c813-d820-4307-98fb-8cd675910ea4"
      },
      "source": [
        "df.browserid.value_counts()"
      ],
      "execution_count": 60,
      "outputs": [
        {
          "output_type": "execute_result",
          "data": {
            "text/plain": [
              "InternetExplorer     238525\n",
              "Edge                 215337\n",
              "Firefox              212450\n",
              "Google Chrome        178010\n",
              "Mozilla               73852\n",
              "Mozilla Firefox       67444\n",
              "Chrome                32520\n",
              "IE                    32060\n",
              "Internet Explorer     21464\n",
              "Safari                10724\n",
              "Opera                 10649\n",
              "Name: browserid, dtype: int64"
            ]
          },
          "metadata": {},
          "execution_count": 60
        }
      ]
    },
    {
      "cell_type": "markdown",
      "metadata": {
        "id": "Q89EEtA4v2D1"
      },
      "source": [
        "Clubbing similar browsers together."
      ]
    },
    {
      "cell_type": "code",
      "metadata": {
        "id": "LhHSpBWYvIQ9"
      },
      "source": [
        "#df = df.replace({'a':{1:11, 2:22}})\n",
        "\n",
        "replace_IE = {\"InternetExplorer\" : \"IE\", \"Internet Explorer\" : \"IE\"}\n",
        "df=df.replace({'browserid' : replace_IE})\n",
        "\n",
        "replace_browser = {\"Mozilla Firefox\" : \"Firefox\", \"Mozilla\" : \"Firefox\"}\n",
        "df=df.replace({'browserid' : replace_browser})\n",
        "\n",
        "df['browserid']=df.browserid.str.replace(\"Google Chrome\",\"Chrome\")"
      ],
      "execution_count": 61,
      "outputs": []
    },
    {
      "cell_type": "code",
      "metadata": {
        "colab": {
          "base_uri": "https://localhost:8080/"
        },
        "id": "9KCfp4hLvIS_",
        "outputId": "ffdf3568-8054-45f5-98a2-c25e6859d9d5"
      },
      "source": [
        "df.browserid.unique()"
      ],
      "execution_count": 62,
      "outputs": [
        {
          "output_type": "execute_result",
          "data": {
            "text/plain": [
              "array(['IE', 'Chrome', 'Firefox', 'Safari', 'Edge', 'Opera'], dtype=object)"
            ]
          },
          "metadata": {},
          "execution_count": 62
        }
      ]
    },
    {
      "cell_type": "code",
      "metadata": {
        "colab": {
          "base_uri": "https://localhost:8080/",
          "height": 543
        },
        "id": "qIUAwBWSvIV0",
        "outputId": "fcd00c82-1264-4101-a506-648466d6d406"
      },
      "source": [
        "crosstab = pd.crosstab(index=df[\"browserid\"], columns=df[\"devid\"])\n",
        "crosstab.plot(kind=\"bar\", figsize=(12,8), stacked=True, colormap='Paired')"
      ],
      "execution_count": 63,
      "outputs": [
        {
          "output_type": "execute_result",
          "data": {
            "text/plain": [
              "<matplotlib.axes._subplots.AxesSubplot at 0x7ff5b09e8890>"
            ]
          },
          "metadata": {},
          "execution_count": 63
        },
        {
          "output_type": "display_data",
          "data": {
            "image/png": "[encoded data removed]",
            "text/plain": [
              "<Figure size 864x576 with 1 Axes>"
            ]
          },
          "metadata": {
            "needs_background": "light"
          }
        }
      ]
    },
    {
      "cell_type": "markdown",
      "metadata": {
        "id": "ykqulitlwCW8"
      },
      "source": [
        "Mean Encoding of features"
      ]
    },
    {
      "cell_type": "code",
      "metadata": {
        "colab": {
          "base_uri": "https://localhost:8080/",
          "height": 203
        },
        "id": "FChg936OvIYO",
        "outputId": "d2f79681-fac7-423e-f320-a4a3010518be"
      },
      "source": [
        "time_phase = pd.crosstab(index=df[\"time_phase\"], columns=df[\"click\"])\n",
        "time_phase['ME']=time_phase[1]/(time_phase[1]+time_phase[0])\n",
        "time_phase.drop([0,1], axis = 1, inplace = True)\n",
        "time_phase = pd.Series(time_phase.ME)\n",
        "df['time_phase'] = df['time_phase'].map(time_phase)\n",
        "\n",
        "\n",
        "browserid = pd.crosstab(index=df[\"browserid\"], columns=df[\"click\"])\n",
        "browserid['ME']=browserid[1]/(browserid[1]+browserid[0])\n",
        "browserid.drop([0,1],axis = 1, inplace = True)\n",
        "browserid = pd.Series(browserid.ME)\n",
        "df['browserid'] = df['browserid'].map(browserid)\n",
        "\n",
        "\n",
        "devid = pd.crosstab(index=df[\"devid\"], columns=df[\"click\"])\n",
        "devid['ME']=devid[1]/(devid[1]+devid[0])\n",
        "devid.drop([0,1],axis = 1, inplace = True)\n",
        "devid = pd.Series(devid.ME)\n",
        "df['devid'] = df['devid'].map(devid)\n",
        "df.head()\n",
        "\n",
        "\n",
        "countrycode = pd.crosstab(index=df[\"countrycode\"], columns=df[\"click\"])\n",
        "countrycode['ME']=countrycode[1]/(countrycode[1]+countrycode[0])\n",
        "countrycode.drop([0,1],axis = 1, inplace = True)\n",
        "countrycode = pd.Series(countrycode.ME)\n",
        "df['countrycode'] = df['countrycode'].map(countrycode)\n",
        "df.head()\n",
        "\n",
        "\n",
        "siteid = pd.crosstab(index=df[\"siteid\"], columns=df[\"click\"])\n",
        "siteid['ME']=siteid[1]/(siteid[1]+siteid[0])\n",
        "siteid.drop([0,1],axis = 1, inplace = True)\n",
        "siteid = pd.Series(siteid.ME)\n",
        "df['siteid'] = df['siteid'].map(siteid)\n",
        "\n",
        "\n",
        "category = pd.crosstab(index=df[\"category\"], columns=df[\"click\"])\n",
        "category['ME']=category[1]/(category[1]+category[0])\n",
        "category.drop([0,1],axis = 1, inplace = True)\n",
        "category = pd.Series(category.ME)\n",
        "df['category'] = df['category'].map(category)\n",
        "\n",
        "\n",
        "merchant = pd.crosstab(index=df[\"merchant\"], columns=df[\"click\"])\n",
        "merchant['ME']=merchant[1]/(merchant[1]+merchant[0])\n",
        "merchant.drop([0,1],axis = 1, inplace = True)\n",
        "merchant = pd.Series(merchant.ME)\n",
        "df['merchant'] = df['merchant'].map(merchant)\n",
        "\n",
        "offerid = pd.crosstab(index=df[\"offerid\"], columns=df[\"click\"])\n",
        "offerid['ME']=offerid[1]/(offerid[1]+offerid[0])\n",
        "offerid.drop([0,1],axis = 1, inplace = True)\n",
        "offerid = pd.Series(offerid.ME)\n",
        "df['offerid'] = df['offerid'].map(offerid)\n",
        "\n",
        "df.head()"
      ],
      "execution_count": 64,
      "outputs": [
        {
          "output_type": "execute_result",
          "data": {
            "text/html": [
              "<div>\n",
              "<style scoped>\n",
              "    .dataframe tbody tr th:only-of-type {\n",
              "        vertical-align: middle;\n",
              "    }\n",
              "\n",
              "    .dataframe tbody tr th {\n",
              "        vertical-align: top;\n",
              "    }\n",
              "\n",
              "    .dataframe thead th {\n",
              "        text-align: right;\n",
              "    }\n",
              "</style>\n",
              "<table border=\"1\" class=\"dataframe\">\n",
              "  <thead>\n",
              "    <tr style=\"text-align: right;\">\n",
              "      <th></th>\n",
              "      <th>siteid</th>\n",
              "      <th>offerid</th>\n",
              "      <th>category</th>\n",
              "      <th>merchant</th>\n",
              "      <th>countrycode</th>\n",
              "      <th>browserid</th>\n",
              "      <th>devid</th>\n",
              "      <th>click</th>\n",
              "      <th>time_phase</th>\n",
              "    </tr>\n",
              "  </thead>\n",
              "  <tbody>\n",
              "    <tr>\n",
              "      <th>13</th>\n",
              "      <td>1.0</td>\n",
              "      <td>0.333333</td>\n",
              "      <td>0.465265</td>\n",
              "      <td>0.631954</td>\n",
              "      <td>0.869138</td>\n",
              "      <td>0.774867</td>\n",
              "      <td>0.562400</td>\n",
              "      <td>1</td>\n",
              "      <td>0.743173</td>\n",
              "    </tr>\n",
              "    <tr>\n",
              "      <th>16</th>\n",
              "      <td>0.4</td>\n",
              "      <td>1.000000</td>\n",
              "      <td>0.333870</td>\n",
              "      <td>0.446003</td>\n",
              "      <td>0.116532</td>\n",
              "      <td>0.749850</td>\n",
              "      <td>0.422688</td>\n",
              "      <td>1</td>\n",
              "      <td>0.312080</td>\n",
              "    </tr>\n",
              "    <tr>\n",
              "      <th>35</th>\n",
              "      <td>1.0</td>\n",
              "      <td>1.000000</td>\n",
              "      <td>0.268235</td>\n",
              "      <td>0.626415</td>\n",
              "      <td>0.249769</td>\n",
              "      <td>0.749850</td>\n",
              "      <td>0.422688</td>\n",
              "      <td>1</td>\n",
              "      <td>0.743173</td>\n",
              "    </tr>\n",
              "    <tr>\n",
              "      <th>67</th>\n",
              "      <td>1.0</td>\n",
              "      <td>0.400000</td>\n",
              "      <td>0.453318</td>\n",
              "      <td>0.543046</td>\n",
              "      <td>0.249769</td>\n",
              "      <td>0.774867</td>\n",
              "      <td>0.562400</td>\n",
              "      <td>1</td>\n",
              "      <td>0.743173</td>\n",
              "    </tr>\n",
              "    <tr>\n",
              "      <th>90</th>\n",
              "      <td>1.0</td>\n",
              "      <td>1.000000</td>\n",
              "      <td>0.302103</td>\n",
              "      <td>0.289485</td>\n",
              "      <td>0.249769</td>\n",
              "      <td>0.093242</td>\n",
              "      <td>0.562400</td>\n",
              "      <td>1</td>\n",
              "      <td>0.312080</td>\n",
              "    </tr>\n",
              "  </tbody>\n",
              "</table>\n",
              "</div>"
            ],
            "text/plain": [
              "    siteid   offerid  category  ...     devid  click  time_phase\n",
              "13     1.0  0.333333  0.465265  ...  0.562400      1    0.743173\n",
              "16     0.4  1.000000  0.333870  ...  0.422688      1    0.312080\n",
              "35     1.0  1.000000  0.268235  ...  0.422688      1    0.743173\n",
              "67     1.0  0.400000  0.453318  ...  0.562400      1    0.743173\n",
              "90     1.0  1.000000  0.302103  ...  0.562400      1    0.312080\n",
              "\n",
              "[5 rows x 9 columns]"
            ]
          },
          "metadata": {},
          "execution_count": 64
        }
      ]
    },
    {
      "cell_type": "code",
      "metadata": {
        "id": "tNXDmpKgvIdm"
      },
      "source": [
        "feature_cols = ['siteid', 'offerid', 'category', 'merchant','countrycode','browserid','devid', 'time_phase']\n",
        "x = df[feature_cols]\n",
        "y = df.click"
      ],
      "execution_count": 65,
      "outputs": []
    },
    {
      "cell_type": "markdown",
      "metadata": {
        "id": "Wkoq5ZcRwiQ1"
      },
      "source": [
        "## Createing models for train data.\n"
      ]
    },
    {
      "cell_type": "code",
      "metadata": {
        "id": "0AEmqZpAvIfY"
      },
      "source": [
        "random_state = 11\n",
        "X_train, X_test, y_train, y_test = train_test_split(x, y, test_size=0.25, random_state= random_state)"
      ],
      "execution_count": 66,
      "outputs": []
    },
    {
      "cell_type": "code",
      "metadata": {
        "id": "XGj7LUx_vIir"
      },
      "source": [
        "'''Build pipline of classifiers'''\n",
        "# set all CPU\n",
        "n_jobs = -1\n",
        "\n",
        "# LogisticRegression\n",
        "pipe_lr = Pipeline([('lr', LogisticRegression(random_state=random_state, n_jobs=n_jobs, max_iter=500))])\n",
        "\n",
        "# RandomForestClassifier\n",
        "pipe_rf = Pipeline([('rf', RandomForestClassifier(random_state=random_state, oob_score=True, n_jobs=n_jobs))])\n",
        "\n",
        "# DecisionTreeClassifier\n",
        "pipe_dt = Pipeline([('dt', DecisionTreeClassifier(random_state=random_state, max_features='auto'))])\n",
        "\n",
        "# BaggingClassifier\n",
        "# note we use SGDClassifier as classier inside BaggingClassifier\n",
        "pipe_bag = Pipeline([('bag',BaggingClassifier(base_estimator=SGDClassifier(random_state=random_state, n_jobs=n_jobs, max_iter=1500),\\\n",
        "                                              random_state=random_state,oob_score=True,n_jobs=n_jobs))])"
      ],
      "execution_count": 67,
      "outputs": []
    },
    {
      "cell_type": "code",
      "metadata": {
        "id": "0Ul9fNCrvIko"
      },
      "source": [
        "'''Set parameters for Random Search '''\n",
        "# set number \n",
        "cv = StratifiedKFold(shuffle=True, n_splits=3, random_state=random_state)\n",
        "# set for LogisticRegression\n",
        "random_params_lr = [{\n",
        "                'lr__penalty': ['l1','l2'],\n",
        "                'lr__C': [1,0.1,0.01,0.001],\n",
        "                'lr__solver': ['sag']\n",
        "                }]\n",
        "                \n",
        "# set for RandomForestClassifier\n",
        "random_params_rf = [{\n",
        "                'rf__criterion': ['entropy','gini'],\n",
        "                'rf__min_samples_leaf': [80, 100],\n",
        "                'rf__max_depth': [25, 27],\n",
        "                'rf__min_samples_split': [3, 5],\n",
        "                'rf__n_estimators' : [60, 70]\n",
        "                }]\n",
        "\n",
        "# set for DecisionTreeClassifier\n",
        "random_params_dt = [{\n",
        "                'dt__max_depth': [8, 10],\n",
        "                'dt__min_samples_leaf': [1, 3, 5, 7]\n",
        "                  }]\n",
        "# set for BaggingClassifier\n",
        "random_params_bag = [{'bag__n_estimators': [10, 15, 20]}]\n"
      ],
      "execution_count": 68,
      "outputs": []
    },
    {
      "cell_type": "code",
      "metadata": {
        "id": "Pk_IDwXDvIqI"
      },
      "source": [
        "'''Random search objects'''\n",
        "# for LogisticRegression\n",
        "rs_lr = RandomizedSearchCV(pipe_lr, param_distributions=random_params_lr,\n",
        "                     scoring='roc_auc', cv=cv) \n",
        "# for RandomForestClassifier\n",
        "rs_rf = RandomizedSearchCV(pipe_rf, param_distributions=random_params_rf,\n",
        "                     scoring='roc_auc', cv=cv)\n",
        "# for DecisionTreeClassifier\n",
        "rs_dt = RandomizedSearchCV(pipe_dt, param_distributions=random_params_dt,\n",
        "                     scoring='roc_auc', cv=cv)\n",
        "# for BaggingClassifier\n",
        "rs_bag = RandomizedSearchCV(pipe_bag, param_distributions=random_params_bag,\n",
        "                     scoring='roc_auc', cv=cv)"
      ],
      "execution_count": 69,
      "outputs": []
    },
    {
      "cell_type": "code",
      "metadata": {
        "id": "cXPHniXuvIsJ"
      },
      "source": [
        "# models that we iterate over\n",
        "look_for = [rs_lr, rs_rf, rs_dt, rs_bag]\n",
        "# dict for later use \n",
        "model_dict = {0:'Logistic_reg', 1:'RandomForest', 2:'DesionTree', 3:'Bagging with SGDClassifier'}"
      ],
      "execution_count": 70,
      "outputs": []
    },
    {
      "cell_type": "code",
      "metadata": {
        "colab": {
          "base_uri": "https://localhost:8080/"
        },
        "id": "FEAW6FkRvIu5",
        "outputId": "7810ef2a-3e32-45b6-fa12-b997f59dd1fe"
      },
      "source": [
        "''' Function to iterate over models and obtain results'''\n",
        "# set empty dicts and list\n",
        "result_acc = {}\n",
        "result_auc = {}\n",
        "models = []\n",
        "\n",
        "for index, model in enumerate(look_for):\n",
        "        start = time.time()\n",
        "        print()\n",
        "        print('+++++++ Start New Model ++++++++++++++++++++++')\n",
        "        print('Estimator is {}'.format(model_dict[index]))\n",
        "        model.fit(X_train, y_train)\n",
        "        print('---------------------------------------------')\n",
        "\n",
        "        print('best params {}'.format(model.best_params_))\n",
        "        print('best score is {}'.format(model.best_score_))\n",
        "        auc = roc_auc_score(y_test, model.predict_proba(X_test)[:,1])\n",
        "        print('---------------------------------------------')\n",
        "        print('ROC_AUC is {}'.format(auc))\n",
        "        \n",
        "        end = time.time()\n",
        "        print('It lasted for {} sec'.format(round(end - start, 3)))\n",
        "        print('++++++++ End Model +++++++++++++++++++++++++++')\n",
        "        print()\n",
        "        print()\n",
        "        models.append(model.best_estimator_)\n",
        "        result_acc[index] = model.best_score_\n",
        "        result_auc[index] = auc"
      ],
      "execution_count": 71,
      "outputs": [
        {
          "output_type": "stream",
          "text": [
            "\n",
            "+++++++ Start New Model ++++++++++++++++++++++\n",
            "Estimator is Logistic_reg\n",
            "---------------------------------------------\n",
            "best params {'lr__solver': 'sag', 'lr__penalty': 'l2', 'lr__C': 1}\n",
            "best score is 0.9974181615532812\n",
            "---------------------------------------------\n",
            "ROC_AUC is 0.9974445651286435\n",
            "It lasted for 89.446 sec\n",
            "++++++++ End Model +++++++++++++++++++++++++++\n",
            "\n",
            "\n",
            "\n",
            "+++++++ Start New Model ++++++++++++++++++++++\n",
            "Estimator is RandomForest\n",
            "---------------------------------------------\n",
            "best params {'rf__n_estimators': 70, 'rf__min_samples_split': 3, 'rf__min_samples_leaf': 100, 'rf__max_depth': 25, 'rf__criterion': 'entropy'}\n",
            "best score is 0.9982266671912838\n",
            "---------------------------------------------\n",
            "ROC_AUC is 0.9982458498812485\n",
            "It lasted for 1750.963 sec\n",
            "++++++++ End Model +++++++++++++++++++++++++++\n",
            "\n",
            "\n",
            "\n",
            "+++++++ Start New Model ++++++++++++++++++++++\n",
            "Estimator is DesionTree\n",
            "---------------------------------------------\n",
            "best params {'dt__min_samples_leaf': 7, 'dt__max_depth': 10}\n",
            "best score is 0.9957166617695682\n",
            "---------------------------------------------\n",
            "ROC_AUC is 0.9951519309112024\n",
            "It lasted for 21.142 sec\n",
            "++++++++ End Model +++++++++++++++++++++++++++\n",
            "\n",
            "\n",
            "\n",
            "+++++++ Start New Model ++++++++++++++++++++++\n",
            "Estimator is Bagging with SGDClassifier\n",
            "---------------------------------------------\n",
            "best params {'bag__n_estimators': 15}\n",
            "best score is 0.9974096534546016\n",
            "---------------------------------------------\n",
            "ROC_AUC is 0.9791791483175353\n",
            "It lasted for 167.222 sec\n",
            "++++++++ End Model +++++++++++++++++++++++++++\n",
            "\n",
            "\n"
          ],
          "name": "stdout"
        }
      ]
    },
    {
      "cell_type": "markdown",
      "metadata": {
        "id": "wevrO98ezkQo"
      },
      "source": [
        "## Creating best model with best parameters "
      ]
    },
    {
      "cell_type": "code",
      "metadata": {
        "colab": {
          "base_uri": "https://localhost:8080/"
        },
        "id": "-seDnqIrvIx-",
        "outputId": "14a95aa3-105c-47f1-9981-7e30d5d87cf0"
      },
      "source": [
        "#final model for cluster 0 using RF with best params \n",
        "ns_probs = [0 for _ in range(len(y_test))]   #generate a no skill prediction (majority class)\n",
        "\n",
        "final_rf = RandomForestClassifier(n_estimators= 70, min_samples_split= 3, min_samples_leaf= 80, max_depth= 25, criterion= 'entropy',random_state = 11)\n",
        "final_rf.fit(X_train,y_train) \n",
        "\n",
        "rf_probs = final_rf.predict_proba(X_test)  #predict probabilities\n",
        "rf_probs = rf_probs[:, 1]                    #keep probabilities for the positive outcome only\n",
        "#calculate scores\n",
        "ns_auc = roc_auc_score(y_test, ns_probs)     \n",
        "rf_auc = roc_auc_score(y_test, rf_probs)\n",
        "\n",
        "print('No Skill: ROC AUC=%.3f' % (ns_auc))\n",
        "print('RandomForest: ROC AUC=%.3f' % (rf_auc))"
      ],
      "execution_count": 72,
      "outputs": [
        {
          "output_type": "stream",
          "text": [
            "No Skill: ROC AUC=0.500\n",
            "RandomForest: ROC AUC=0.998\n"
          ],
          "name": "stdout"
        }
      ]
    },
    {
      "cell_type": "code",
      "metadata": {
        "colab": {
          "base_uri": "https://localhost:8080/",
          "height": 279
        },
        "id": "05JRpHqfvI1g",
        "outputId": "283af09b-47f5-458c-98cf-83fff1cf2c82"
      },
      "source": [
        "#calculate roc curves\n",
        "ns_fpr, ns_tpr, _ = roc_curve(y_test, ns_probs)\n",
        "rf_fpr, rf_tpr, _ = roc_curve(y_test, rf_probs)\n",
        "#plot the roc curve for the model\n",
        "pyplot.plot(ns_fpr, ns_tpr, linestyle='--', label='No Skill')\n",
        "pyplot.plot(rf_fpr, rf_tpr, marker='.', label='RandomForest')\n",
        "#axis labels\n",
        "pyplot.xlabel('False Positive Rate')\n",
        "pyplot.ylabel('True Positive Rate')\n",
        "#show the legend\n",
        "pyplot.legend()\n",
        "#show the plot\n",
        "pyplot.show()"
      ],
      "execution_count": 73,
      "outputs": [
        {
          "output_type": "display_data",
          "data": {
            "image/png": "[encoded data removed]",
            "text/plain": [
              "<Figure size 432x288 with 1 Axes>"
            ]
          },
          "metadata": {
            "needs_background": "light"
          }
        }
      ]
    },
    {
      "cell_type": "markdown",
      "metadata": {
        "id": "fRo3rWf8zyJI"
      },
      "source": [
        "# Now let's work on test data"
      ]
    },
    {
      "cell_type": "code",
      "metadata": {
        "id": "GtkRdVKRvI6u"
      },
      "source": [
        "df2 = test.copy()"
      ],
      "execution_count": 74,
      "outputs": []
    },
    {
      "cell_type": "code",
      "metadata": {
        "colab": {
          "base_uri": "https://localhost:8080/",
          "height": 203
        },
        "id": "klNqzqxTvI9A",
        "outputId": "8cdb66bb-b9d0-4519-e82f-29ea696720c1"
      },
      "source": [
        "df2.head()"
      ],
      "execution_count": 75,
      "outputs": [
        {
          "output_type": "execute_result",
          "data": {
            "text/html": [
              "<div>\n",
              "<style scoped>\n",
              "    .dataframe tbody tr th:only-of-type {\n",
              "        vertical-align: middle;\n",
              "    }\n",
              "\n",
              "    .dataframe tbody tr th {\n",
              "        vertical-align: top;\n",
              "    }\n",
              "\n",
              "    .dataframe thead th {\n",
              "        text-align: right;\n",
              "    }\n",
              "</style>\n",
              "<table border=\"1\" class=\"dataframe\">\n",
              "  <thead>\n",
              "    <tr style=\"text-align: right;\">\n",
              "      <th></th>\n",
              "      <th>ID</th>\n",
              "      <th>datetime</th>\n",
              "      <th>siteid</th>\n",
              "      <th>offerid</th>\n",
              "      <th>category</th>\n",
              "      <th>merchant</th>\n",
              "      <th>countrycode</th>\n",
              "      <th>browserid</th>\n",
              "      <th>devid</th>\n",
              "    </tr>\n",
              "  </thead>\n",
              "  <tbody>\n",
              "    <tr>\n",
              "      <th>0</th>\n",
              "      <td>IDFDJVI</td>\n",
              "      <td>2017-01-22 09:55:48</td>\n",
              "      <td>755610.0</td>\n",
              "      <td>808980</td>\n",
              "      <td>17714</td>\n",
              "      <td>26391770</td>\n",
              "      <td>b</td>\n",
              "      <td>Mozilla Firefox</td>\n",
              "      <td>Desktop</td>\n",
              "    </tr>\n",
              "    <tr>\n",
              "      <th>1</th>\n",
              "      <td>IDNWkTQ</td>\n",
              "      <td>2017-01-22 03:54:39</td>\n",
              "      <td>3714899.0</td>\n",
              "      <td>280355</td>\n",
              "      <td>12052</td>\n",
              "      <td>39507200</td>\n",
              "      <td>b</td>\n",
              "      <td>Edge</td>\n",
              "      <td>Tablet</td>\n",
              "    </tr>\n",
              "    <tr>\n",
              "      <th>2</th>\n",
              "      <td>ID9pRmM</td>\n",
              "      <td>2017-01-21 10:25:50</td>\n",
              "      <td>4378333.0</td>\n",
              "      <td>930819</td>\n",
              "      <td>30580</td>\n",
              "      <td>46148550</td>\n",
              "      <td>e</td>\n",
              "      <td>Mozilla Firefox</td>\n",
              "      <td>NaN</td>\n",
              "    </tr>\n",
              "    <tr>\n",
              "      <th>3</th>\n",
              "      <td>IDHaQaj</td>\n",
              "      <td>2017-01-22 14:45:53</td>\n",
              "      <td>1754730.0</td>\n",
              "      <td>612234</td>\n",
              "      <td>11837</td>\n",
              "      <td>8837581</td>\n",
              "      <td>b</td>\n",
              "      <td>Edge</td>\n",
              "      <td>Tablet</td>\n",
              "    </tr>\n",
              "    <tr>\n",
              "      <th>4</th>\n",
              "      <td>IDT2CrF</td>\n",
              "      <td>2017-01-22 09:34:07</td>\n",
              "      <td>5299909.0</td>\n",
              "      <td>524289</td>\n",
              "      <td>45620</td>\n",
              "      <td>31388981</td>\n",
              "      <td>b</td>\n",
              "      <td>Mozilla</td>\n",
              "      <td>NaN</td>\n",
              "    </tr>\n",
              "  </tbody>\n",
              "</table>\n",
              "</div>"
            ],
            "text/plain": [
              "        ID             datetime  ...        browserid    devid\n",
              "0  IDFDJVI  2017-01-22 09:55:48  ...  Mozilla Firefox  Desktop\n",
              "1  IDNWkTQ  2017-01-22 03:54:39  ...             Edge   Tablet\n",
              "2  ID9pRmM  2017-01-21 10:25:50  ...  Mozilla Firefox      NaN\n",
              "3  IDHaQaj  2017-01-22 14:45:53  ...             Edge   Tablet\n",
              "4  IDT2CrF  2017-01-22 09:34:07  ...          Mozilla      NaN\n",
              "\n",
              "[5 rows x 9 columns]"
            ]
          },
          "metadata": {},
          "execution_count": 75
        }
      ]
    },
    {
      "cell_type": "code",
      "metadata": {
        "colab": {
          "base_uri": "https://localhost:8080/",
          "height": 203
        },
        "id": "WIizXzPkvJAn",
        "outputId": "61f15bb8-7e3c-4fd7-c3a4-d693d225e752"
      },
      "source": [
        "df2.tail()  "
      ],
      "execution_count": 76,
      "outputs": [
        {
          "output_type": "execute_result",
          "data": {
            "text/html": [
              "<div>\n",
              "<style scoped>\n",
              "    .dataframe tbody tr th:only-of-type {\n",
              "        vertical-align: middle;\n",
              "    }\n",
              "\n",
              "    .dataframe tbody tr th {\n",
              "        vertical-align: top;\n",
              "    }\n",
              "\n",
              "    .dataframe thead th {\n",
              "        text-align: right;\n",
              "    }\n",
              "</style>\n",
              "<table border=\"1\" class=\"dataframe\">\n",
              "  <thead>\n",
              "    <tr style=\"text-align: right;\">\n",
              "      <th></th>\n",
              "      <th>ID</th>\n",
              "      <th>datetime</th>\n",
              "      <th>siteid</th>\n",
              "      <th>offerid</th>\n",
              "      <th>category</th>\n",
              "      <th>merchant</th>\n",
              "      <th>countrycode</th>\n",
              "      <th>browserid</th>\n",
              "      <th>devid</th>\n",
              "    </tr>\n",
              "  </thead>\n",
              "  <tbody>\n",
              "    <tr>\n",
              "      <th>3706902</th>\n",
              "      <td>IDboA6b</td>\n",
              "      <td>2017-01-21 13:16:15</td>\n",
              "      <td>8119016.0</td>\n",
              "      <td>476777</td>\n",
              "      <td>92704</td>\n",
              "      <td>87903766</td>\n",
              "      <td>e</td>\n",
              "      <td>Google Chrome</td>\n",
              "      <td>NaN</td>\n",
              "    </tr>\n",
              "    <tr>\n",
              "      <th>3706903</th>\n",
              "      <td>IDpHDPM</td>\n",
              "      <td>2017-01-22 13:20:16</td>\n",
              "      <td>9792509.0</td>\n",
              "      <td>978629</td>\n",
              "      <td>74711</td>\n",
              "      <td>31463671</td>\n",
              "      <td>c</td>\n",
              "      <td>Mozilla</td>\n",
              "      <td>NaN</td>\n",
              "    </tr>\n",
              "    <tr>\n",
              "      <th>3706904</th>\n",
              "      <td>IDAISNl</td>\n",
              "      <td>2017-01-22 08:06:07</td>\n",
              "      <td>2627839.0</td>\n",
              "      <td>218588</td>\n",
              "      <td>29183</td>\n",
              "      <td>42914671</td>\n",
              "      <td>f</td>\n",
              "      <td>Mozilla Firefox</td>\n",
              "      <td>Desktop</td>\n",
              "    </tr>\n",
              "    <tr>\n",
              "      <th>3706905</th>\n",
              "      <td>ID3k389</td>\n",
              "      <td>2017-01-21 13:04:13</td>\n",
              "      <td>5174731.0</td>\n",
              "      <td>682278</td>\n",
              "      <td>36610</td>\n",
              "      <td>74868704</td>\n",
              "      <td>b</td>\n",
              "      <td>Firefox</td>\n",
              "      <td>Mobile</td>\n",
              "    </tr>\n",
              "    <tr>\n",
              "      <th>3706906</th>\n",
              "      <td>IDjioLR</td>\n",
              "      <td>2017-01-22 15:34:43</td>\n",
              "      <td>9339358.0</td>\n",
              "      <td>170847</td>\n",
              "      <td>33287</td>\n",
              "      <td>47079934</td>\n",
              "      <td>d</td>\n",
              "      <td>Edge</td>\n",
              "      <td>Tablet</td>\n",
              "    </tr>\n",
              "  </tbody>\n",
              "</table>\n",
              "</div>"
            ],
            "text/plain": [
              "              ID             datetime  ...        browserid    devid\n",
              "3706902  IDboA6b  2017-01-21 13:16:15  ...    Google Chrome      NaN\n",
              "3706903  IDpHDPM  2017-01-22 13:20:16  ...          Mozilla      NaN\n",
              "3706904  IDAISNl  2017-01-22 08:06:07  ...  Mozilla Firefox  Desktop\n",
              "3706905  ID3k389  2017-01-21 13:04:13  ...          Firefox   Mobile\n",
              "3706906  IDjioLR  2017-01-22 15:34:43  ...             Edge   Tablet\n",
              "\n",
              "[5 rows x 9 columns]"
            ]
          },
          "metadata": {},
          "execution_count": 76
        }
      ]
    },
    {
      "cell_type": "code",
      "metadata": {
        "colab": {
          "base_uri": "https://localhost:8080/"
        },
        "id": "incrKvCtvJlR",
        "outputId": "22c85ab7-5cbc-413f-ec34-30a070c1cb6a"
      },
      "source": [
        "df2.shape"
      ],
      "execution_count": 77,
      "outputs": [
        {
          "output_type": "execute_result",
          "data": {
            "text/plain": [
              "(3706907, 9)"
            ]
          },
          "metadata": {},
          "execution_count": 77
        }
      ]
    },
    {
      "cell_type": "code",
      "metadata": {
        "colab": {
          "base_uri": "https://localhost:8080/"
        },
        "id": "z5s1utuXvJnh",
        "outputId": "950d255a-1ac0-4e80-f2f4-93fa15c8da75"
      },
      "source": [
        "df2.info()"
      ],
      "execution_count": 78,
      "outputs": [
        {
          "output_type": "stream",
          "text": [
            "<class 'pandas.core.frame.DataFrame'>\n",
            "RangeIndex: 3706907 entries, 0 to 3706906\n",
            "Data columns (total 9 columns):\n",
            " #   Column       Dtype  \n",
            "---  ------       -----  \n",
            " 0   ID           object \n",
            " 1   datetime     object \n",
            " 2   siteid       float64\n",
            " 3   offerid      int64  \n",
            " 4   category     int64  \n",
            " 5   merchant     int64  \n",
            " 6   countrycode  object \n",
            " 7   browserid    object \n",
            " 8   devid        object \n",
            "dtypes: float64(1), int64(3), object(5)\n",
            "memory usage: 254.5+ MB\n"
          ],
          "name": "stdout"
        }
      ]
    },
    {
      "cell_type": "code",
      "metadata": {
        "id": "q2cX9IYovJvI"
      },
      "source": [
        "test.drop('ID', axis = 1, inplace = True)\n",
        "df2.drop('ID', axis = 1, inplace = True)"
      ],
      "execution_count": 79,
      "outputs": []
    },
    {
      "cell_type": "code",
      "metadata": {
        "colab": {
          "base_uri": "https://localhost:8080/",
          "height": 203
        },
        "id": "dRrs36NrvJxM",
        "outputId": "672b46bb-5cee-4d60-810a-db50879208e0"
      },
      "source": [
        "df2.head()"
      ],
      "execution_count": 80,
      "outputs": [
        {
          "output_type": "execute_result",
          "data": {
            "text/html": [
              "<div>\n",
              "<style scoped>\n",
              "    .dataframe tbody tr th:only-of-type {\n",
              "        vertical-align: middle;\n",
              "    }\n",
              "\n",
              "    .dataframe tbody tr th {\n",
              "        vertical-align: top;\n",
              "    }\n",
              "\n",
              "    .dataframe thead th {\n",
              "        text-align: right;\n",
              "    }\n",
              "</style>\n",
              "<table border=\"1\" class=\"dataframe\">\n",
              "  <thead>\n",
              "    <tr style=\"text-align: right;\">\n",
              "      <th></th>\n",
              "      <th>datetime</th>\n",
              "      <th>siteid</th>\n",
              "      <th>offerid</th>\n",
              "      <th>category</th>\n",
              "      <th>merchant</th>\n",
              "      <th>countrycode</th>\n",
              "      <th>browserid</th>\n",
              "      <th>devid</th>\n",
              "    </tr>\n",
              "  </thead>\n",
              "  <tbody>\n",
              "    <tr>\n",
              "      <th>0</th>\n",
              "      <td>2017-01-22 09:55:48</td>\n",
              "      <td>755610.0</td>\n",
              "      <td>808980</td>\n",
              "      <td>17714</td>\n",
              "      <td>26391770</td>\n",
              "      <td>b</td>\n",
              "      <td>Mozilla Firefox</td>\n",
              "      <td>Desktop</td>\n",
              "    </tr>\n",
              "    <tr>\n",
              "      <th>1</th>\n",
              "      <td>2017-01-22 03:54:39</td>\n",
              "      <td>3714899.0</td>\n",
              "      <td>280355</td>\n",
              "      <td>12052</td>\n",
              "      <td>39507200</td>\n",
              "      <td>b</td>\n",
              "      <td>Edge</td>\n",
              "      <td>Tablet</td>\n",
              "    </tr>\n",
              "    <tr>\n",
              "      <th>2</th>\n",
              "      <td>2017-01-21 10:25:50</td>\n",
              "      <td>4378333.0</td>\n",
              "      <td>930819</td>\n",
              "      <td>30580</td>\n",
              "      <td>46148550</td>\n",
              "      <td>e</td>\n",
              "      <td>Mozilla Firefox</td>\n",
              "      <td>NaN</td>\n",
              "    </tr>\n",
              "    <tr>\n",
              "      <th>3</th>\n",
              "      <td>2017-01-22 14:45:53</td>\n",
              "      <td>1754730.0</td>\n",
              "      <td>612234</td>\n",
              "      <td>11837</td>\n",
              "      <td>8837581</td>\n",
              "      <td>b</td>\n",
              "      <td>Edge</td>\n",
              "      <td>Tablet</td>\n",
              "    </tr>\n",
              "    <tr>\n",
              "      <th>4</th>\n",
              "      <td>2017-01-22 09:34:07</td>\n",
              "      <td>5299909.0</td>\n",
              "      <td>524289</td>\n",
              "      <td>45620</td>\n",
              "      <td>31388981</td>\n",
              "      <td>b</td>\n",
              "      <td>Mozilla</td>\n",
              "      <td>NaN</td>\n",
              "    </tr>\n",
              "  </tbody>\n",
              "</table>\n",
              "</div>"
            ],
            "text/plain": [
              "              datetime     siteid  ...        browserid    devid\n",
              "0  2017-01-22 09:55:48   755610.0  ...  Mozilla Firefox  Desktop\n",
              "1  2017-01-22 03:54:39  3714899.0  ...             Edge   Tablet\n",
              "2  2017-01-21 10:25:50  4378333.0  ...  Mozilla Firefox      NaN\n",
              "3  2017-01-22 14:45:53  1754730.0  ...             Edge   Tablet\n",
              "4  2017-01-22 09:34:07  5299909.0  ...          Mozilla      NaN\n",
              "\n",
              "[5 rows x 8 columns]"
            ]
          },
          "metadata": {},
          "execution_count": 80
        }
      ]
    },
    {
      "cell_type": "code",
      "metadata": {
        "id": "iM7ovhk-0CUG"
      },
      "source": [
        "def data_information(df):\n",
        "    \n",
        "    ## Creating Empty Data Frame\n",
        "    data_info = pd.DataFrame(np.random.randn(0, 11) * 0,\n",
        "                             columns=['No. of Observations (Nrow)',\n",
        "                                      'No. of Variables (Ncol)',\n",
        "                                      'No. of Numeric Variables',\n",
        "                                      'No. of Categorical Variables',\n",
        "                                      'No. of Logical Variables',\n",
        "                                      'No. of Date Variables',\n",
        "                                      'No. of Zero variance Variables (Uniform)',\n",
        "                                      '% of Variables having complete cases',\n",
        "                                      '% of Variables having <=50% missing cases',\n",
        "                                      '% of Variables having >50% missing cases',\n",
        "                                      '% of Variables having >90% missing cases'])\n",
        "\n",
        "    ## Data Inofrmation\n",
        "    data_info.loc[0, 'No. of Observations (Nrow)'] = df.shape[0]\n",
        "    data_info.loc[0, 'No. of Variables (Ncol)'] = df.shape[1]\n",
        "    data_info.loc[0, 'No. of Numeric Variables'] = df._get_numeric_data().shape[1]\n",
        "    data_info.loc[0, 'No. of Logical Variables'] = df.select_dtypes(include='bool').shape[1]\n",
        "    data_info.loc[0, 'No. of Categorical Variables'] = df.select_dtypes(include='object').shape[1]\n",
        "    data_info.loc[0, 'No. of Date Variables'] = df.select_dtypes(include='datetime64').shape[1]\n",
        "    data_info.loc[0, 'No. of Zero variance Variables (Uniform)'] = df.loc[:, df.apply(pd.Series.nunique) == 1].shape[1]\n",
        "\n",
        "    null_per = pd.DataFrame(df.isnull().sum()/df.shape[0])\n",
        "    null_per.columns = ['null_per']\n",
        "\n",
        "    data_info.loc[0, '% of Variables having complete cases'] = null_per[null_per.null_per == 0].shape[0] * 100 / \\\n",
        "                                                               df.shape[1]\n",
        "    data_info.loc[0, '% of Variables having <=50% missing cases'] = null_per[null_per.null_per <= 0.50].shape[0] * 100 / \\\n",
        "                                                                    df.shape[1]\n",
        "    data_info.loc[0, '% of Variables having >50% missing cases'] = null_per[null_per.null_per > 0.50].shape[0] * 100 / \\\n",
        "                                                                   df.shape[1]\n",
        "    data_info.loc[0, '% of Variables having >90% missing cases'] = null_per[null_per.null_per > 0.90].shape[0] * 100 / \\\n",
        "                                                                   df.shape[1]\n",
        "\n",
        "    ## Transposing Data to get in consumable format\n",
        "    data_info = data_info.transpose()\n",
        "    data_info.columns = ['Value']\n",
        "    data_info['Value'] = data_info['Value'].astype(int)\n",
        "\n",
        "    return data_info"
      ],
      "execution_count": 81,
      "outputs": []
    },
    {
      "cell_type": "code",
      "metadata": {
        "colab": {
          "base_uri": "https://localhost:8080/",
          "height": 388
        },
        "id": "1j6n5wZ30CWs",
        "outputId": "a77ac9a6-33a9-489c-ebcc-beaec0e9a3ec"
      },
      "source": [
        "data_information(df2)"
      ],
      "execution_count": 82,
      "outputs": [
        {
          "output_type": "execute_result",
          "data": {
            "text/html": [
              "<div>\n",
              "<style scoped>\n",
              "    .dataframe tbody tr th:only-of-type {\n",
              "        vertical-align: middle;\n",
              "    }\n",
              "\n",
              "    .dataframe tbody tr th {\n",
              "        vertical-align: top;\n",
              "    }\n",
              "\n",
              "    .dataframe thead th {\n",
              "        text-align: right;\n",
              "    }\n",
              "</style>\n",
              "<table border=\"1\" class=\"dataframe\">\n",
              "  <thead>\n",
              "    <tr style=\"text-align: right;\">\n",
              "      <th></th>\n",
              "      <th>Value</th>\n",
              "    </tr>\n",
              "  </thead>\n",
              "  <tbody>\n",
              "    <tr>\n",
              "      <th>No. of Observations (Nrow)</th>\n",
              "      <td>3706907</td>\n",
              "    </tr>\n",
              "    <tr>\n",
              "      <th>No. of Variables (Ncol)</th>\n",
              "      <td>8</td>\n",
              "    </tr>\n",
              "    <tr>\n",
              "      <th>No. of Numeric Variables</th>\n",
              "      <td>4</td>\n",
              "    </tr>\n",
              "    <tr>\n",
              "      <th>No. of Categorical Variables</th>\n",
              "      <td>4</td>\n",
              "    </tr>\n",
              "    <tr>\n",
              "      <th>No. of Logical Variables</th>\n",
              "      <td>0</td>\n",
              "    </tr>\n",
              "    <tr>\n",
              "      <th>No. of Date Variables</th>\n",
              "      <td>0</td>\n",
              "    </tr>\n",
              "    <tr>\n",
              "      <th>No. of Zero variance Variables (Uniform)</th>\n",
              "      <td>0</td>\n",
              "    </tr>\n",
              "    <tr>\n",
              "      <th>% of Variables having complete cases</th>\n",
              "      <td>62</td>\n",
              "    </tr>\n",
              "    <tr>\n",
              "      <th>% of Variables having &lt;=50% missing cases</th>\n",
              "      <td>100</td>\n",
              "    </tr>\n",
              "    <tr>\n",
              "      <th>% of Variables having &gt;50% missing cases</th>\n",
              "      <td>0</td>\n",
              "    </tr>\n",
              "    <tr>\n",
              "      <th>% of Variables having &gt;90% missing cases</th>\n",
              "      <td>0</td>\n",
              "    </tr>\n",
              "  </tbody>\n",
              "</table>\n",
              "</div>"
            ],
            "text/plain": [
              "                                             Value\n",
              "No. of Observations (Nrow)                 3706907\n",
              "No. of Variables (Ncol)                          8\n",
              "No. of Numeric Variables                         4\n",
              "No. of Categorical Variables                     4\n",
              "No. of Logical Variables                         0\n",
              "No. of Date Variables                            0\n",
              "No. of Zero variance Variables (Uniform)         0\n",
              "% of Variables having complete cases            62\n",
              "% of Variables having <=50% missing cases      100\n",
              "% of Variables having >50% missing cases         0\n",
              "% of Variables having >90% missing cases         0"
            ]
          },
          "metadata": {},
          "execution_count": 82
        }
      ]
    },
    {
      "cell_type": "code",
      "metadata": {
        "id": "cxAFix4Q0CaD"
      },
      "source": [
        "def cat_count_summary(df):\n",
        "\n",
        "    df_cat = df.select_dtypes(['object', 'bool'])\n",
        "\n",
        "    data_info_cat = pd.DataFrame()\n",
        "    ## Counts Stats on Categorical Variable\n",
        "    try:  ## incase Categorical variables not present\n",
        "        for c in df_cat.columns:\n",
        "            data_info_cat.loc[c, 'Unique Categories'] = len(df_cat[c].unique())\n",
        "            data_info_cat.loc[c, 'Missing Percentage'] = (df_cat[df_cat[c].isnull()].shape[0]*100) / df_cat.shape[0]\n",
        "    except:\n",
        "        pass\n",
        "    return data_info_cat"
      ],
      "execution_count": 83,
      "outputs": []
    },
    {
      "cell_type": "code",
      "metadata": {
        "colab": {
          "base_uri": "https://localhost:8080/",
          "height": 172
        },
        "id": "fznZLCjt0CcP",
        "outputId": "5d464fd8-7dfb-4e0d-8aa3-4a293490018d"
      },
      "source": [
        "cat_count_summary(df2)"
      ],
      "execution_count": 84,
      "outputs": [
        {
          "output_type": "execute_result",
          "data": {
            "text/html": [
              "<div>\n",
              "<style scoped>\n",
              "    .dataframe tbody tr th:only-of-type {\n",
              "        vertical-align: middle;\n",
              "    }\n",
              "\n",
              "    .dataframe tbody tr th {\n",
              "        vertical-align: top;\n",
              "    }\n",
              "\n",
              "    .dataframe thead th {\n",
              "        text-align: right;\n",
              "    }\n",
              "</style>\n",
              "<table border=\"1\" class=\"dataframe\">\n",
              "  <thead>\n",
              "    <tr style=\"text-align: right;\">\n",
              "      <th></th>\n",
              "      <th>Unique Categories</th>\n",
              "      <th>Missing Percentage</th>\n",
              "    </tr>\n",
              "  </thead>\n",
              "  <tbody>\n",
              "    <tr>\n",
              "      <th>datetime</th>\n",
              "      <td>147548.0</td>\n",
              "      <td>0.000000</td>\n",
              "    </tr>\n",
              "    <tr>\n",
              "      <th>countrycode</th>\n",
              "      <td>6.0</td>\n",
              "      <td>0.000000</td>\n",
              "    </tr>\n",
              "    <tr>\n",
              "      <th>browserid</th>\n",
              "      <td>12.0</td>\n",
              "      <td>5.986285</td>\n",
              "    </tr>\n",
              "    <tr>\n",
              "      <th>devid</th>\n",
              "      <td>4.0</td>\n",
              "      <td>19.008273</td>\n",
              "    </tr>\n",
              "  </tbody>\n",
              "</table>\n",
              "</div>"
            ],
            "text/plain": [
              "             Unique Categories  Missing Percentage\n",
              "datetime              147548.0            0.000000\n",
              "countrycode                6.0            0.000000\n",
              "browserid                 12.0            5.986285\n",
              "devid                      4.0           19.008273"
            ]
          },
          "metadata": {},
          "execution_count": 84
        }
      ]
    },
    {
      "cell_type": "code",
      "metadata": {
        "colab": {
          "base_uri": "https://localhost:8080/"
        },
        "id": "ZeLP9Nxw0Cfv",
        "outputId": "3c804d72-18d0-40ff-adff-f039a1bbe03f"
      },
      "source": [
        "df2.nunique().sort_values()"
      ],
      "execution_count": 85,
      "outputs": [
        {
          "output_type": "execute_result",
          "data": {
            "text/plain": [
              "devid               3\n",
              "countrycode         6\n",
              "browserid          11\n",
              "category          267\n",
              "merchant          650\n",
              "siteid          84892\n",
              "datetime       147548\n",
              "offerid        556519\n",
              "dtype: int64"
            ]
          },
          "metadata": {},
          "execution_count": 85
        }
      ]
    },
    {
      "cell_type": "code",
      "metadata": {
        "colab": {
          "base_uri": "https://localhost:8080/"
        },
        "id": "toh85u9H0Cil",
        "outputId": "943a25fc-c5cc-4b36-b41c-e1dba48c6308"
      },
      "source": [
        "df2.isnull().sum()"
      ],
      "execution_count": 86,
      "outputs": [
        {
          "output_type": "execute_result",
          "data": {
            "text/plain": [
              "datetime            0\n",
              "siteid         370776\n",
              "offerid             0\n",
              "category            0\n",
              "merchant            0\n",
              "countrycode         0\n",
              "browserid      221906\n",
              "devid          704619\n",
              "dtype: int64"
            ]
          },
          "metadata": {},
          "execution_count": 86
        }
      ]
    },
    {
      "cell_type": "code",
      "metadata": {
        "colab": {
          "base_uri": "https://localhost:8080/",
          "height": 265
        },
        "id": "RpEB5tza0CmE",
        "outputId": "ea8cde63-8b60-466f-a1f6-23af54fcd942"
      },
      "source": [
        "crosstab = pd.crosstab(index=df2[\"countrycode\"], columns=df2[\"browserid\"])\n",
        "crosstab"
      ],
      "execution_count": 87,
      "outputs": [
        {
          "output_type": "execute_result",
          "data": {
            "text/html": [
              "<div>\n",
              "<style scoped>\n",
              "    .dataframe tbody tr th:only-of-type {\n",
              "        vertical-align: middle;\n",
              "    }\n",
              "\n",
              "    .dataframe tbody tr th {\n",
              "        vertical-align: top;\n",
              "    }\n",
              "\n",
              "    .dataframe thead th {\n",
              "        text-align: right;\n",
              "    }\n",
              "</style>\n",
              "<table border=\"1\" class=\"dataframe\">\n",
              "  <thead>\n",
              "    <tr style=\"text-align: right;\">\n",
              "      <th>browserid</th>\n",
              "      <th>Chrome</th>\n",
              "      <th>Edge</th>\n",
              "      <th>Firefox</th>\n",
              "      <th>Google Chrome</th>\n",
              "      <th>IE</th>\n",
              "      <th>Internet Explorer</th>\n",
              "      <th>InternetExplorer</th>\n",
              "      <th>Mozilla</th>\n",
              "      <th>Mozilla Firefox</th>\n",
              "      <th>Opera</th>\n",
              "      <th>Safari</th>\n",
              "    </tr>\n",
              "    <tr>\n",
              "      <th>countrycode</th>\n",
              "      <th></th>\n",
              "      <th></th>\n",
              "      <th></th>\n",
              "      <th></th>\n",
              "      <th></th>\n",
              "      <th></th>\n",
              "      <th></th>\n",
              "      <th></th>\n",
              "      <th></th>\n",
              "      <th></th>\n",
              "      <th></th>\n",
              "    </tr>\n",
              "  </thead>\n",
              "  <tbody>\n",
              "    <tr>\n",
              "      <th>a</th>\n",
              "      <td>24570</td>\n",
              "      <td>250901</td>\n",
              "      <td>243828</td>\n",
              "      <td>44798</td>\n",
              "      <td>24485</td>\n",
              "      <td>16542</td>\n",
              "      <td>46119</td>\n",
              "      <td>81219</td>\n",
              "      <td>72758</td>\n",
              "      <td>8160</td>\n",
              "      <td>8442</td>\n",
              "    </tr>\n",
              "    <tr>\n",
              "      <th>b</th>\n",
              "      <td>43832</td>\n",
              "      <td>451398</td>\n",
              "      <td>437702</td>\n",
              "      <td>77333</td>\n",
              "      <td>43714</td>\n",
              "      <td>29442</td>\n",
              "      <td>78191</td>\n",
              "      <td>145763</td>\n",
              "      <td>131147</td>\n",
              "      <td>14713</td>\n",
              "      <td>14702</td>\n",
              "    </tr>\n",
              "    <tr>\n",
              "      <th>c</th>\n",
              "      <td>8551</td>\n",
              "      <td>52392</td>\n",
              "      <td>53865</td>\n",
              "      <td>52089</td>\n",
              "      <td>8576</td>\n",
              "      <td>5725</td>\n",
              "      <td>64970</td>\n",
              "      <td>18844</td>\n",
              "      <td>16869</td>\n",
              "      <td>2908</td>\n",
              "      <td>2895</td>\n",
              "    </tr>\n",
              "    <tr>\n",
              "      <th>d</th>\n",
              "      <td>7198</td>\n",
              "      <td>51407</td>\n",
              "      <td>51363</td>\n",
              "      <td>34447</td>\n",
              "      <td>7153</td>\n",
              "      <td>4733</td>\n",
              "      <td>42324</td>\n",
              "      <td>17545</td>\n",
              "      <td>16178</td>\n",
              "      <td>2381</td>\n",
              "      <td>2420</td>\n",
              "    </tr>\n",
              "    <tr>\n",
              "      <th>e</th>\n",
              "      <td>10084</td>\n",
              "      <td>100718</td>\n",
              "      <td>97579</td>\n",
              "      <td>20676</td>\n",
              "      <td>9964</td>\n",
              "      <td>6648</td>\n",
              "      <td>21793</td>\n",
              "      <td>32567</td>\n",
              "      <td>28961</td>\n",
              "      <td>3342</td>\n",
              "      <td>3301</td>\n",
              "    </tr>\n",
              "    <tr>\n",
              "      <th>f</th>\n",
              "      <td>10207</td>\n",
              "      <td>100219</td>\n",
              "      <td>96361</td>\n",
              "      <td>20595</td>\n",
              "      <td>10144</td>\n",
              "      <td>6755</td>\n",
              "      <td>21855</td>\n",
              "      <td>32563</td>\n",
              "      <td>29490</td>\n",
              "      <td>3360</td>\n",
              "      <td>3227</td>\n",
              "    </tr>\n",
              "  </tbody>\n",
              "</table>\n",
              "</div>"
            ],
            "text/plain": [
              "browserid    Chrome    Edge  Firefox  ...  Mozilla Firefox  Opera  Safari\n",
              "countrycode                           ...                                \n",
              "a             24570  250901   243828  ...            72758   8160    8442\n",
              "b             43832  451398   437702  ...           131147  14713   14702\n",
              "c              8551   52392    53865  ...            16869   2908    2895\n",
              "d              7198   51407    51363  ...            16178   2381    2420\n",
              "e             10084  100718    97579  ...            28961   3342    3301\n",
              "f             10207  100219    96361  ...            29490   3360    3227\n",
              "\n",
              "[6 rows x 11 columns]"
            ]
          },
          "metadata": {},
          "execution_count": 87
        }
      ]
    },
    {
      "cell_type": "code",
      "metadata": {
        "colab": {
          "base_uri": "https://localhost:8080/",
          "height": 521
        },
        "id": "nnsly8YT0Co2",
        "outputId": "05fdaac8-5af0-4819-9cc7-b1eda7e29413"
      },
      "source": [
        "crosstab.plot(kind=\"bar\", figsize=(12,8), stacked=True, colormap='Paired')"
      ],
      "execution_count": 88,
      "outputs": [
        {
          "output_type": "execute_result",
          "data": {
            "text/plain": [
              "<matplotlib.axes._subplots.AxesSubplot at 0x7ff5ab843310>"
            ]
          },
          "metadata": {},
          "execution_count": 88
        },
        {
          "output_type": "display_data",
          "data": {
            "image/png": "[encoded data removed]",
            "text/plain": [
              "<Figure size 864x576 with 1 Axes>"
            ]
          },
          "metadata": {
            "needs_background": "light"
          }
        }
      ]
    },
    {
      "cell_type": "code",
      "metadata": {
        "colab": {
          "base_uri": "https://localhost:8080/"
        },
        "id": "1WmAr4Vl0Cwe",
        "outputId": "a4dbb563-b77e-4d9a-e46b-18ca835fbfb0"
      },
      "source": [
        "print(\"For country A:\",df2[df2.countrycode=='a']['browserid'].isnull().sum())\n",
        "print(\"For country B:\",df2[df2.countrycode=='b']['browserid'].isnull().sum())\n",
        "print(\"For country C:\",df2[df2.countrycode=='c']['browserid'].isnull().sum())\n",
        "print(\"For country D:\",df2[df2.countrycode=='d']['browserid'].isnull().sum())\n",
        "print(\"For country E:\",df2[df2.countrycode=='e']['browserid'].isnull().sum())\n",
        "print(\"For country F:\",df2[df2.countrycode=='f']['browserid'].isnull().sum())"
      ],
      "execution_count": 89,
      "outputs": [
        {
          "output_type": "stream",
          "text": [
            "For country A: 52452\n",
            "For country B: 93178\n",
            "For country C: 18427\n",
            "For country D: 15087\n",
            "For country E: 21435\n",
            "For country F: 21327\n"
          ],
          "name": "stdout"
        }
      ]
    },
    {
      "cell_type": "code",
      "metadata": {
        "id": "yNnXW-_U0C00"
      },
      "source": [
        "df2.loc[(df2['countrycode']=='a') & (df2['browserid'].isnull()) ,'browserid']='Edge'\n",
        "df2.loc[(df2['countrycode']=='b') & (df2['browserid'].isnull()) ,'browserid']='Edge'\n",
        "df2.loc[(df2['countrycode']=='c') & (df2['browserid'].isnull()) ,'browserid']='InternetExplorer'\n",
        "df2.loc[(df2['countrycode']=='d') & (df2['browserid'].isnull()) ,'browserid']='InternetExplorer'\n",
        "df2.loc[(df2['countrycode']=='e') & (df2['browserid'].isnull()) ,'browserid']='Edge'\n",
        "df2.loc[(df2['countrycode']=='f') & (df2['browserid'].isnull()) ,'browserid']='InternetExplorer'"
      ],
      "execution_count": 90,
      "outputs": []
    },
    {
      "cell_type": "code",
      "metadata": {
        "colab": {
          "base_uri": "https://localhost:8080/"
        },
        "id": "qQ39HC5k0C24",
        "outputId": "71a425e4-9483-4acd-e0ec-033e0e171772"
      },
      "source": [
        "df2.browserid.isnull().sum()"
      ],
      "execution_count": 91,
      "outputs": [
        {
          "output_type": "execute_result",
          "data": {
            "text/plain": [
              "0"
            ]
          },
          "metadata": {},
          "execution_count": 91
        }
      ]
    },
    {
      "cell_type": "code",
      "metadata": {
        "colab": {
          "base_uri": "https://localhost:8080/",
          "height": 479
        },
        "id": "tcvxpwOp0C7K",
        "outputId": "60e0d72f-7bab-4896-ae21-e2131a7cbda5"
      },
      "source": [
        "crosstab = pd.crosstab(index=df2[\"browserid\"], columns=df2[\"devid\"])\n",
        "crosstab.plot(kind=\"bar\", figsize=(10,6), stacked=True, colormap='Paired')"
      ],
      "execution_count": 92,
      "outputs": [
        {
          "output_type": "execute_result",
          "data": {
            "text/plain": [
              "<matplotlib.axes._subplots.AxesSubplot at 0x7ff5ab693550>"
            ]
          },
          "metadata": {},
          "execution_count": 92
        },
        {
          "output_type": "display_data",
          "data": {
            "image/png": "[encoded data removed]",
            "text/plain": [
              "<Figure size 720x432 with 1 Axes>"
            ]
          },
          "metadata": {
            "needs_background": "light"
          }
        }
      ]
    },
    {
      "cell_type": "code",
      "metadata": {
        "id": "eY_RfuJt0C9q"
      },
      "source": [
        "df2.loc[((df2['browserid']=='Safari')|(df2['browserid']=='Edge')|(df2['browserid']=='Internet Explorer')) & (df2['devid'].isnull()) ,'devid']='Tablet'\n",
        "df2.loc[((df2['browserid']=='Opera')|(df2['browserid']=='IE')|(df2['browserid']=='Firefox')|(df2['browserid']=='Google Chrome')) & (df2['devid'].isnull()) ,'devid']='Mobile'\n",
        "df2.loc[((df2['browserid']=='InternetExplorer')|(df2['browserid']=='Mozilla')|(df2['browserid']=='Mozilla Firefox')|(df2['browserid']=='Chrome')) & (df2['devid'].isnull()) ,'devid']='Desktop'"
      ],
      "execution_count": 93,
      "outputs": []
    },
    {
      "cell_type": "code",
      "metadata": {
        "colab": {
          "base_uri": "https://localhost:8080/"
        },
        "id": "B19Q8rEk0DA_",
        "outputId": "c9f42a41-b00d-4870-8614-c9e85b0fae60"
      },
      "source": [
        "df2['devid'].isnull().sum()"
      ],
      "execution_count": 94,
      "outputs": [
        {
          "output_type": "execute_result",
          "data": {
            "text/plain": [
              "0"
            ]
          },
          "metadata": {},
          "execution_count": 94
        }
      ]
    },
    {
      "cell_type": "code",
      "metadata": {
        "id": "u3_53i1t0DDO"
      },
      "source": [
        "df2['new_time'] = [d.split(' ')[1] for d in df2['datetime']]"
      ],
      "execution_count": 95,
      "outputs": []
    },
    {
      "cell_type": "code",
      "metadata": {
        "id": "DpMNaqPw0DGs"
      },
      "source": [
        "def convertTimeToQuarter(time):\n",
        "    str_time = str(time)\n",
        "    hour = str_time.split(':')[0]\n",
        "    quarter = ''\n",
        "    if int(hour) < 6:\n",
        "        quarter = 'phase1'\n",
        "    elif int(hour) < 12: \n",
        "        quarter = 'phase2'\n",
        "    elif int(hour) < 18: \n",
        "        quarter = 'phase3'\n",
        "    else:\n",
        "        quarter = 'phase4'\n",
        "    return quarter"
      ],
      "execution_count": 96,
      "outputs": []
    },
    {
      "cell_type": "code",
      "metadata": {
        "id": "ChYoGfEw0DJM"
      },
      "source": [
        "df2['time_phase'] = [convertTimeToQuarter(d) for d in df2['new_time']]"
      ],
      "execution_count": 97,
      "outputs": []
    },
    {
      "cell_type": "code",
      "metadata": {
        "colab": {
          "base_uri": "https://localhost:8080/",
          "height": 417
        },
        "id": "g3WzzX6g0DMi",
        "outputId": "b1f3606d-25fc-4f1d-eb2f-7d5c1c1ed18e"
      },
      "source": [
        "df2.loc[:,['datetime','new_time','time_phase']]"
      ],
      "execution_count": 98,
      "outputs": [
        {
          "output_type": "execute_result",
          "data": {
            "text/html": [
              "<div>\n",
              "<style scoped>\n",
              "    .dataframe tbody tr th:only-of-type {\n",
              "        vertical-align: middle;\n",
              "    }\n",
              "\n",
              "    .dataframe tbody tr th {\n",
              "        vertical-align: top;\n",
              "    }\n",
              "\n",
              "    .dataframe thead th {\n",
              "        text-align: right;\n",
              "    }\n",
              "</style>\n",
              "<table border=\"1\" class=\"dataframe\">\n",
              "  <thead>\n",
              "    <tr style=\"text-align: right;\">\n",
              "      <th></th>\n",
              "      <th>datetime</th>\n",
              "      <th>new_time</th>\n",
              "      <th>time_phase</th>\n",
              "    </tr>\n",
              "  </thead>\n",
              "  <tbody>\n",
              "    <tr>\n",
              "      <th>0</th>\n",
              "      <td>2017-01-22 09:55:48</td>\n",
              "      <td>09:55:48</td>\n",
              "      <td>phase2</td>\n",
              "    </tr>\n",
              "    <tr>\n",
              "      <th>1</th>\n",
              "      <td>2017-01-22 03:54:39</td>\n",
              "      <td>03:54:39</td>\n",
              "      <td>phase1</td>\n",
              "    </tr>\n",
              "    <tr>\n",
              "      <th>2</th>\n",
              "      <td>2017-01-21 10:25:50</td>\n",
              "      <td>10:25:50</td>\n",
              "      <td>phase2</td>\n",
              "    </tr>\n",
              "    <tr>\n",
              "      <th>3</th>\n",
              "      <td>2017-01-22 14:45:53</td>\n",
              "      <td>14:45:53</td>\n",
              "      <td>phase3</td>\n",
              "    </tr>\n",
              "    <tr>\n",
              "      <th>4</th>\n",
              "      <td>2017-01-22 09:34:07</td>\n",
              "      <td>09:34:07</td>\n",
              "      <td>phase2</td>\n",
              "    </tr>\n",
              "    <tr>\n",
              "      <th>...</th>\n",
              "      <td>...</td>\n",
              "      <td>...</td>\n",
              "      <td>...</td>\n",
              "    </tr>\n",
              "    <tr>\n",
              "      <th>3706902</th>\n",
              "      <td>2017-01-21 13:16:15</td>\n",
              "      <td>13:16:15</td>\n",
              "      <td>phase3</td>\n",
              "    </tr>\n",
              "    <tr>\n",
              "      <th>3706903</th>\n",
              "      <td>2017-01-22 13:20:16</td>\n",
              "      <td>13:20:16</td>\n",
              "      <td>phase3</td>\n",
              "    </tr>\n",
              "    <tr>\n",
              "      <th>3706904</th>\n",
              "      <td>2017-01-22 08:06:07</td>\n",
              "      <td>08:06:07</td>\n",
              "      <td>phase2</td>\n",
              "    </tr>\n",
              "    <tr>\n",
              "      <th>3706905</th>\n",
              "      <td>2017-01-21 13:04:13</td>\n",
              "      <td>13:04:13</td>\n",
              "      <td>phase3</td>\n",
              "    </tr>\n",
              "    <tr>\n",
              "      <th>3706906</th>\n",
              "      <td>2017-01-22 15:34:43</td>\n",
              "      <td>15:34:43</td>\n",
              "      <td>phase3</td>\n",
              "    </tr>\n",
              "  </tbody>\n",
              "</table>\n",
              "<p>3706907 rows × 3 columns</p>\n",
              "</div>"
            ],
            "text/plain": [
              "                    datetime  new_time time_phase\n",
              "0        2017-01-22 09:55:48  09:55:48     phase2\n",
              "1        2017-01-22 03:54:39  03:54:39     phase1\n",
              "2        2017-01-21 10:25:50  10:25:50     phase2\n",
              "3        2017-01-22 14:45:53  14:45:53     phase3\n",
              "4        2017-01-22 09:34:07  09:34:07     phase2\n",
              "...                      ...       ...        ...\n",
              "3706902  2017-01-21 13:16:15  13:16:15     phase3\n",
              "3706903  2017-01-22 13:20:16  13:20:16     phase3\n",
              "3706904  2017-01-22 08:06:07  08:06:07     phase2\n",
              "3706905  2017-01-21 13:04:13  13:04:13     phase3\n",
              "3706906  2017-01-22 15:34:43  15:34:43     phase3\n",
              "\n",
              "[3706907 rows x 3 columns]"
            ]
          },
          "metadata": {},
          "execution_count": 98
        }
      ]
    },
    {
      "cell_type": "code",
      "metadata": {
        "id": "5_gtjhD70DOh"
      },
      "source": [
        "df2.drop(['datetime','new_time'], axis=1, inplace= True)"
      ],
      "execution_count": 99,
      "outputs": []
    },
    {
      "cell_type": "code",
      "metadata": {
        "id": "9BolkkLU0DSJ"
      },
      "source": [
        "df2.siteid.fillna(method='ffill', inplace=True)"
      ],
      "execution_count": 100,
      "outputs": []
    },
    {
      "cell_type": "code",
      "metadata": {
        "colab": {
          "base_uri": "https://localhost:8080/"
        },
        "id": "dKHYB7yL0DUN",
        "outputId": "fa0ee4cd-74b5-46c0-e779-977405217484"
      },
      "source": [
        "df2.isnull().sum()"
      ],
      "execution_count": 101,
      "outputs": [
        {
          "output_type": "execute_result",
          "data": {
            "text/plain": [
              "siteid         0\n",
              "offerid        0\n",
              "category       0\n",
              "merchant       0\n",
              "countrycode    0\n",
              "browserid      0\n",
              "devid          0\n",
              "time_phase     0\n",
              "dtype: int64"
            ]
          },
          "metadata": {},
          "execution_count": 101
        }
      ]
    },
    {
      "cell_type": "code",
      "metadata": {
        "colab": {
          "base_uri": "https://localhost:8080/"
        },
        "id": "G8I5JPfm0DX8",
        "outputId": "180f0a5a-67bb-44de-ee74-0c9bf954e7ac"
      },
      "source": [
        "df2.browserid.value_counts()"
      ],
      "execution_count": 102,
      "outputs": [
        {
          "output_type": "execute_result",
          "data": {
            "text/plain": [
              "Edge                 1174100\n",
              "Firefox               980698\n",
              "InternetExplorer      330093\n",
              "Mozilla               328501\n",
              "Mozilla Firefox       295403\n",
              "Google Chrome         249938\n",
              "Chrome                104442\n",
              "IE                    104036\n",
              "Internet Explorer      69845\n",
              "Safari                 34987\n",
              "Opera                  34864\n",
              "Name: browserid, dtype: int64"
            ]
          },
          "metadata": {},
          "execution_count": 102
        }
      ]
    },
    {
      "cell_type": "code",
      "metadata": {
        "id": "UD_Ebca50DaZ"
      },
      "source": [
        "replace_IE = {\"InternetExplorer\" : \"IE\", \"Internet Explorer\" : \"IE\"}\n",
        "df2=df2.replace({'browserid' : replace_IE})\n",
        "\n",
        "replace_browser = {\"Mozilla Firefox\" : \"Firefox\", \"Mozilla\" : \"Firefox\"}\n",
        "df2=df2.replace({'browserid' : replace_browser})\n",
        "\n",
        "df2['browserid']=df2.browserid.str.replace(\"Google Chrome\",\"Chrome\")"
      ],
      "execution_count": 103,
      "outputs": []
    },
    {
      "cell_type": "code",
      "metadata": {
        "colab": {
          "base_uri": "https://localhost:8080/"
        },
        "id": "f_hEMAOF0Det",
        "outputId": "405d46da-7101-421d-f6b0-3d7f8e45bf05"
      },
      "source": [
        "df2.browserid.unique()"
      ],
      "execution_count": 104,
      "outputs": [
        {
          "output_type": "execute_result",
          "data": {
            "text/plain": [
              "array(['Firefox', 'Edge', 'Chrome', 'IE', 'Safari', 'Opera'], dtype=object)"
            ]
          },
          "metadata": {},
          "execution_count": 104
        }
      ]
    },
    {
      "cell_type": "code",
      "metadata": {
        "colab": {
          "base_uri": "https://localhost:8080/",
          "height": 554
        },
        "id": "x-WQvM4H0DjT",
        "outputId": "4d68a9c7-8b9c-46b7-832f-34d42664e2c3"
      },
      "source": [
        "crosstab = pd.crosstab(index=df2[\"browserid\"], columns=df2[\"devid\"])\n",
        "crosstab.plot(kind=\"bar\", figsize=(12,8), stacked=True, colormap='Paired')"
      ],
      "execution_count": 105,
      "outputs": [
        {
          "output_type": "execute_result",
          "data": {
            "text/plain": [
              "<matplotlib.axes._subplots.AxesSubplot at 0x7ff5b0b8bdd0>"
            ]
          },
          "metadata": {},
          "execution_count": 105
        },
        {
          "output_type": "display_data",
          "data": {
            "image/png": "[encoded data removed]",
            "text/plain": [
              "<Figure size 864x576 with 1 Axes>"
            ]
          },
          "metadata": {
            "needs_background": "light"
          }
        }
      ]
    },
    {
      "cell_type": "code",
      "metadata": {
        "colab": {
          "base_uri": "https://localhost:8080/",
          "height": 203
        },
        "id": "An2Uw43w0DmK",
        "outputId": "3eaa4c43-a40a-426d-c110-b8f55474cfa6"
      },
      "source": [
        "df2['time_phase'] = df2['time_phase'].map(time_phase)\n",
        "df2['browserid'] = df2['browserid'].map(browserid)\n",
        "df2['devid'] = df2['devid'].map(devid)\n",
        "df2['countrycode'] = df2['countrycode'].map(countrycode)\n",
        "df2['siteid'] = df2['siteid'].map(siteid)\n",
        "df2['category'] = df2['category'].map(category)\n",
        "df2['merchant'] = df2['merchant'].map(merchant)\n",
        "df2['offerid'] = df2['offerid'].map(offerid)\n",
        "\n",
        "df2.head()"
      ],
      "execution_count": 106,
      "outputs": [
        {
          "output_type": "execute_result",
          "data": {
            "text/html": [
              "<div>\n",
              "<style scoped>\n",
              "    .dataframe tbody tr th:only-of-type {\n",
              "        vertical-align: middle;\n",
              "    }\n",
              "\n",
              "    .dataframe tbody tr th {\n",
              "        vertical-align: top;\n",
              "    }\n",
              "\n",
              "    .dataframe thead th {\n",
              "        text-align: right;\n",
              "    }\n",
              "</style>\n",
              "<table border=\"1\" class=\"dataframe\">\n",
              "  <thead>\n",
              "    <tr style=\"text-align: right;\">\n",
              "      <th></th>\n",
              "      <th>siteid</th>\n",
              "      <th>offerid</th>\n",
              "      <th>category</th>\n",
              "      <th>merchant</th>\n",
              "      <th>countrycode</th>\n",
              "      <th>browserid</th>\n",
              "      <th>devid</th>\n",
              "      <th>time_phase</th>\n",
              "    </tr>\n",
              "  </thead>\n",
              "  <tbody>\n",
              "    <tr>\n",
              "      <th>0</th>\n",
              "      <td>0.444444</td>\n",
              "      <td>0.333333</td>\n",
              "      <td>0.315901</td>\n",
              "      <td>0.305422</td>\n",
              "      <td>0.068881</td>\n",
              "      <td>0.093242</td>\n",
              "      <td>0.562400</td>\n",
              "      <td>0.365396</td>\n",
              "    </tr>\n",
              "    <tr>\n",
              "      <th>1</th>\n",
              "      <td>0.000000</td>\n",
              "      <td>0.096774</td>\n",
              "      <td>0.489211</td>\n",
              "      <td>0.297060</td>\n",
              "      <td>0.068881</td>\n",
              "      <td>0.054329</td>\n",
              "      <td>0.090742</td>\n",
              "      <td>0.481189</td>\n",
              "    </tr>\n",
              "    <tr>\n",
              "      <th>2</th>\n",
              "      <td>NaN</td>\n",
              "      <td>NaN</td>\n",
              "      <td>0.351858</td>\n",
              "      <td>0.442971</td>\n",
              "      <td>0.252599</td>\n",
              "      <td>0.093242</td>\n",
              "      <td>0.562400</td>\n",
              "      <td>0.365396</td>\n",
              "    </tr>\n",
              "    <tr>\n",
              "      <th>3</th>\n",
              "      <td>0.000000</td>\n",
              "      <td>NaN</td>\n",
              "      <td>0.260653</td>\n",
              "      <td>0.236050</td>\n",
              "      <td>0.068881</td>\n",
              "      <td>0.054329</td>\n",
              "      <td>0.090742</td>\n",
              "      <td>0.312080</td>\n",
              "    </tr>\n",
              "    <tr>\n",
              "      <th>4</th>\n",
              "      <td>0.000000</td>\n",
              "      <td>NaN</td>\n",
              "      <td>0.473360</td>\n",
              "      <td>0.498852</td>\n",
              "      <td>0.068881</td>\n",
              "      <td>0.093242</td>\n",
              "      <td>0.562400</td>\n",
              "      <td>0.365396</td>\n",
              "    </tr>\n",
              "  </tbody>\n",
              "</table>\n",
              "</div>"
            ],
            "text/plain": [
              "     siteid   offerid  category  ...  browserid     devid  time_phase\n",
              "0  0.444444  0.333333  0.315901  ...   0.093242  0.562400    0.365396\n",
              "1  0.000000  0.096774  0.489211  ...   0.054329  0.090742    0.481189\n",
              "2       NaN       NaN  0.351858  ...   0.093242  0.562400    0.365396\n",
              "3  0.000000       NaN  0.260653  ...   0.054329  0.090742    0.312080\n",
              "4  0.000000       NaN  0.473360  ...   0.093242  0.562400    0.365396\n",
              "\n",
              "[5 rows x 8 columns]"
            ]
          },
          "metadata": {},
          "execution_count": 106
        }
      ]
    },
    {
      "cell_type": "code",
      "metadata": {
        "colab": {
          "base_uri": "https://localhost:8080/"
        },
        "id": "EPf16U-t0Dzl",
        "outputId": "2fe13040-2ac3-4721-800f-e83d128840ec"
      },
      "source": [
        "df2.isnull().sum()"
      ],
      "execution_count": 107,
      "outputs": [
        {
          "output_type": "execute_result",
          "data": {
            "text/plain": [
              "siteid         1549406\n",
              "offerid         904062\n",
              "category             0\n",
              "merchant           587\n",
              "countrycode          0\n",
              "browserid            0\n",
              "devid                0\n",
              "time_phase           0\n",
              "dtype: int64"
            ]
          },
          "metadata": {},
          "execution_count": 107
        }
      ]
    },
    {
      "cell_type": "code",
      "metadata": {
        "colab": {
          "base_uri": "https://localhost:8080/",
          "height": 203
        },
        "id": "AAN8Jqwi0D1m",
        "outputId": "2059de2b-e695-4e74-c3e5-54ee5d1aa650"
      },
      "source": [
        "df2.update(df2[['siteid','offerid','merchant']].fillna(0))\n",
        "df2.head()"
      ],
      "execution_count": 108,
      "outputs": [
        {
          "output_type": "execute_result",
          "data": {
            "text/html": [
              "<div>\n",
              "<style scoped>\n",
              "    .dataframe tbody tr th:only-of-type {\n",
              "        vertical-align: middle;\n",
              "    }\n",
              "\n",
              "    .dataframe tbody tr th {\n",
              "        vertical-align: top;\n",
              "    }\n",
              "\n",
              "    .dataframe thead th {\n",
              "        text-align: right;\n",
              "    }\n",
              "</style>\n",
              "<table border=\"1\" class=\"dataframe\">\n",
              "  <thead>\n",
              "    <tr style=\"text-align: right;\">\n",
              "      <th></th>\n",
              "      <th>siteid</th>\n",
              "      <th>offerid</th>\n",
              "      <th>category</th>\n",
              "      <th>merchant</th>\n",
              "      <th>countrycode</th>\n",
              "      <th>browserid</th>\n",
              "      <th>devid</th>\n",
              "      <th>time_phase</th>\n",
              "    </tr>\n",
              "  </thead>\n",
              "  <tbody>\n",
              "    <tr>\n",
              "      <th>0</th>\n",
              "      <td>0.444444</td>\n",
              "      <td>0.333333</td>\n",
              "      <td>0.315901</td>\n",
              "      <td>0.305422</td>\n",
              "      <td>0.068881</td>\n",
              "      <td>0.093242</td>\n",
              "      <td>0.562400</td>\n",
              "      <td>0.365396</td>\n",
              "    </tr>\n",
              "    <tr>\n",
              "      <th>1</th>\n",
              "      <td>0.000000</td>\n",
              "      <td>0.096774</td>\n",
              "      <td>0.489211</td>\n",
              "      <td>0.297060</td>\n",
              "      <td>0.068881</td>\n",
              "      <td>0.054329</td>\n",
              "      <td>0.090742</td>\n",
              "      <td>0.481189</td>\n",
              "    </tr>\n",
              "    <tr>\n",
              "      <th>2</th>\n",
              "      <td>0.000000</td>\n",
              "      <td>0.000000</td>\n",
              "      <td>0.351858</td>\n",
              "      <td>0.442971</td>\n",
              "      <td>0.252599</td>\n",
              "      <td>0.093242</td>\n",
              "      <td>0.562400</td>\n",
              "      <td>0.365396</td>\n",
              "    </tr>\n",
              "    <tr>\n",
              "      <th>3</th>\n",
              "      <td>0.000000</td>\n",
              "      <td>0.000000</td>\n",
              "      <td>0.260653</td>\n",
              "      <td>0.236050</td>\n",
              "      <td>0.068881</td>\n",
              "      <td>0.054329</td>\n",
              "      <td>0.090742</td>\n",
              "      <td>0.312080</td>\n",
              "    </tr>\n",
              "    <tr>\n",
              "      <th>4</th>\n",
              "      <td>0.000000</td>\n",
              "      <td>0.000000</td>\n",
              "      <td>0.473360</td>\n",
              "      <td>0.498852</td>\n",
              "      <td>0.068881</td>\n",
              "      <td>0.093242</td>\n",
              "      <td>0.562400</td>\n",
              "      <td>0.365396</td>\n",
              "    </tr>\n",
              "  </tbody>\n",
              "</table>\n",
              "</div>"
            ],
            "text/plain": [
              "     siteid   offerid  category  ...  browserid     devid  time_phase\n",
              "0  0.444444  0.333333  0.315901  ...   0.093242  0.562400    0.365396\n",
              "1  0.000000  0.096774  0.489211  ...   0.054329  0.090742    0.481189\n",
              "2  0.000000  0.000000  0.351858  ...   0.093242  0.562400    0.365396\n",
              "3  0.000000  0.000000  0.260653  ...   0.054329  0.090742    0.312080\n",
              "4  0.000000  0.000000  0.473360  ...   0.093242  0.562400    0.365396\n",
              "\n",
              "[5 rows x 8 columns]"
            ]
          },
          "metadata": {},
          "execution_count": 108
        }
      ]
    },
    {
      "cell_type": "code",
      "metadata": {
        "id": "8wlUjfEc0D5k"
      },
      "source": [
        "prediction = final_rf.predict(df2)"
      ],
      "execution_count": 109,
      "outputs": []
    },
    {
      "cell_type": "code",
      "metadata": {
        "id": "Xx3HD7j3-ZS4"
      },
      "source": [
        ""
      ],
      "execution_count": 109,
      "outputs": []
    }
  ]
}